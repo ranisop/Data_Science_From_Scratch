{
 "cells": [
  {
   "cell_type": "markdown",
   "metadata": {},
   "source": [
    "### 1.3.1 핵심 인물 찾기"
   ]
  },
  {
   "cell_type": "code",
   "execution_count": 2,
   "metadata": {},
   "outputs": [],
   "source": [
    "users = [\n",
    "    {'id':0, 'name':'Hero'},\n",
    "    {'id':1, 'name':'Dunn'},\n",
    "    {'id':2, 'name':'Sue'},\n",
    "    {'id':3, 'name':'Chi'},\n",
    "    {'id':4, 'name':'Thor'},\n",
    "    {'id':5, 'name':'Clive'},\n",
    "    {'id':6, 'name':'Hicks'},\n",
    "    {'id':7, 'name':'Devin'},\n",
    "    {'id':8, 'name':'Kate'},\n",
    "    {'id':9, 'name':'Klein'},\n",
    "]\n",
    "\n",
    "friendships = [(0,1), (0,2), (1,2), (1,3), (2,3), (3,4), (4,5), (5,6), (5,7), (6,8), (7,8), (8,9)]"
   ]
  },
  {
   "cell_type": "code",
   "execution_count": 3,
   "metadata": {},
   "outputs": [],
   "source": [
    "# 각 사용자의 friends 속성에 빈 list를 할당한다.\n",
    "for user in users:\n",
    "    user['friends'] = []"
   ]
  },
  {
   "cell_type": "code",
   "execution_count": 4,
   "metadata": {},
   "outputs": [],
   "source": [
    "for i, j in friendships:\n",
    "    # users[i]에서 i는 해당 사용자의 id를 나타내기 때문에 다음과 같이 추가할 수 있다.\n",
    "    users[i]['friends'].append(users[j])  # j를 i의 친구로 추가\n",
    "    users[j]['friends'].append(users[i])  # i를 j의 친구로 추가"
   ]
  },
  {
   "cell_type": "code",
   "execution_count": 5,
   "metadata": {},
   "outputs": [],
   "source": [
    "def number_of_friends(user):\n",
    "    '''user의 친구가 몇 명일까?'''\n",
    "    return len(user['friends'])  # 각 friends list의 길이\n",
    "total_connections = sum(number_of_friends(user) for user in users)  # 24"
   ]
  },
  {
   "cell_type": "code",
   "execution_count": 6,
   "metadata": {},
   "outputs": [
    {
     "name": "stdout",
     "output_type": "stream",
     "text": [
      "24\n"
     ]
    }
   ],
   "source": [
    "print(total_connections)"
   ]
  },
  {
   "cell_type": "code",
   "execution_count": 8,
   "metadata": {},
   "outputs": [],
   "source": [
    "from __future__ import division  # 나눈 값이 정수로 나오면 쓸모가 없....\n",
    "num_users = len(users)  # users list의 길이\n",
    "avg_connections = total_connections / num_users  # 2.4"
   ]
  },
  {
   "cell_type": "code",
   "execution_count": 9,
   "metadata": {},
   "outputs": [
    {
     "name": "stdout",
     "output_type": "stream",
     "text": [
      "2.4\n"
     ]
    }
   ],
   "source": [
    "print(avg_connections)"
   ]
  },
  {
   "cell_type": "code",
   "execution_count": 19,
   "metadata": {},
   "outputs": [
    {
     "ename": "SyntaxError",
     "evalue": "invalid syntax (<ipython-input-19-1c01deb2d7ef>, line 6)",
     "output_type": "error",
     "traceback": [
      "\u001b[0;36m  File \u001b[0;32m\"<ipython-input-19-1c01deb2d7ef>\"\u001b[0;36m, line \u001b[0;32m6\u001b[0m\n\u001b[0;31m    sorted(num_friends_by_id, key=lambda (user_id, num_friends): num_friends, reverse=True)\u001b[0m\n\u001b[0m                                         ^\u001b[0m\n\u001b[0;31mSyntaxError\u001b[0m\u001b[0;31m:\u001b[0m invalid syntax\n"
     ]
    }
   ],
   "source": [
    "# (user_id, number_of_friends)로 구성된 list 생성\n",
    "num_friends_by_id = [(user['id'], number_of_friends(user)) for user in users]\n",
    "\n",
    "# 정렬해보쟈\n",
    "# num_friends 기준으로 제일 큰 숫자부터 제일 작은 숫자 순으로 정렬\n",
    "sorted(num_friends_by_id, key=lambda (user_id, num_friends): num_friends, reverse=True)  \n",
    " "
   ]
  },
  {
   "cell_type": "markdown",
   "metadata": {},
   "source": [
    "### 1.3.2 데이터 과학자 추천하기"
   ]
  },
  {
   "cell_type": "code",
   "execution_count": 15,
   "metadata": {},
   "outputs": [],
   "source": [
    "def friends_of_friend_ids_bad(user):\n",
    "    # 'foaf'는 친구의 친구('friend of a frined')를 의미하는 약자이다.\n",
    "    return [foaf['id']\n",
    "           for friend in user['friends']  # user의 친구 개개인에 대해\n",
    "           for foaf in friend['friends']]  # 그들의 친구들을 찾아준다"
   ]
  },
  {
   "cell_type": "code",
   "execution_count": 16,
   "metadata": {},
   "outputs": [
    {
     "data": {
      "text/plain": [
       "{'id': 0,\n",
       " 'name': 'Hero',\n",
       " 'friends': [{'id': 1,\n",
       "   'name': 'Dunn',\n",
       "   'friends': [{...},\n",
       "    {'id': 2,\n",
       "     'name': 'Sue',\n",
       "     'friends': [{...},\n",
       "      {...},\n",
       "      {'id': 3,\n",
       "       'name': 'Chi',\n",
       "       'friends': [{...},\n",
       "        {...},\n",
       "        {'id': 4,\n",
       "         'name': 'Thor',\n",
       "         'friends': [{...},\n",
       "          {'id': 5,\n",
       "           'name': 'Clive',\n",
       "           'friends': [{...},\n",
       "            {'id': 6,\n",
       "             'name': 'Hicks',\n",
       "             'friends': [{...},\n",
       "              {'id': 8,\n",
       "               'name': 'Kate',\n",
       "               'friends': [{...},\n",
       "                {'id': 7, 'name': 'Devin', 'friends': [{...}, {...}]},\n",
       "                {'id': 9, 'name': 'Klein', 'friends': [{...}]}]}]},\n",
       "            {'id': 7,\n",
       "             'name': 'Devin',\n",
       "             'friends': [{...},\n",
       "              {'id': 8,\n",
       "               'name': 'Kate',\n",
       "               'friends': [{'id': 6,\n",
       "                 'name': 'Hicks',\n",
       "                 'friends': [{...}, {...}]},\n",
       "                {...},\n",
       "                {'id': 9, 'name': 'Klein', 'friends': [{...}]}]}]}]}]}]}]},\n",
       "    {'id': 3,\n",
       "     'name': 'Chi',\n",
       "     'friends': [{...},\n",
       "      {'id': 2, 'name': 'Sue', 'friends': [{...}, {...}, {...}]},\n",
       "      {'id': 4,\n",
       "       'name': 'Thor',\n",
       "       'friends': [{...},\n",
       "        {'id': 5,\n",
       "         'name': 'Clive',\n",
       "         'friends': [{...},\n",
       "          {'id': 6,\n",
       "           'name': 'Hicks',\n",
       "           'friends': [{...},\n",
       "            {'id': 8,\n",
       "             'name': 'Kate',\n",
       "             'friends': [{...},\n",
       "              {'id': 7, 'name': 'Devin', 'friends': [{...}, {...}]},\n",
       "              {'id': 9, 'name': 'Klein', 'friends': [{...}]}]}]},\n",
       "          {'id': 7,\n",
       "           'name': 'Devin',\n",
       "           'friends': [{...},\n",
       "            {'id': 8,\n",
       "             'name': 'Kate',\n",
       "             'friends': [{'id': 6, 'name': 'Hicks', 'friends': [{...}, {...}]},\n",
       "              {...},\n",
       "              {'id': 9, 'name': 'Klein', 'friends': [{...}]}]}]}]}]}]}]},\n",
       "  {'id': 2,\n",
       "   'name': 'Sue',\n",
       "   'friends': [{...},\n",
       "    {'id': 1,\n",
       "     'name': 'Dunn',\n",
       "     'friends': [{...},\n",
       "      {...},\n",
       "      {'id': 3,\n",
       "       'name': 'Chi',\n",
       "       'friends': [{...},\n",
       "        {...},\n",
       "        {'id': 4,\n",
       "         'name': 'Thor',\n",
       "         'friends': [{...},\n",
       "          {'id': 5,\n",
       "           'name': 'Clive',\n",
       "           'friends': [{...},\n",
       "            {'id': 6,\n",
       "             'name': 'Hicks',\n",
       "             'friends': [{...},\n",
       "              {'id': 8,\n",
       "               'name': 'Kate',\n",
       "               'friends': [{...},\n",
       "                {'id': 7, 'name': 'Devin', 'friends': [{...}, {...}]},\n",
       "                {'id': 9, 'name': 'Klein', 'friends': [{...}]}]}]},\n",
       "            {'id': 7,\n",
       "             'name': 'Devin',\n",
       "             'friends': [{...},\n",
       "              {'id': 8,\n",
       "               'name': 'Kate',\n",
       "               'friends': [{'id': 6,\n",
       "                 'name': 'Hicks',\n",
       "                 'friends': [{...}, {...}]},\n",
       "                {...},\n",
       "                {'id': 9, 'name': 'Klein', 'friends': [{...}]}]}]}]}]}]}]},\n",
       "    {'id': 3,\n",
       "     'name': 'Chi',\n",
       "     'friends': [{'id': 1, 'name': 'Dunn', 'friends': [{...}, {...}, {...}]},\n",
       "      {...},\n",
       "      {'id': 4,\n",
       "       'name': 'Thor',\n",
       "       'friends': [{...},\n",
       "        {'id': 5,\n",
       "         'name': 'Clive',\n",
       "         'friends': [{...},\n",
       "          {'id': 6,\n",
       "           'name': 'Hicks',\n",
       "           'friends': [{...},\n",
       "            {'id': 8,\n",
       "             'name': 'Kate',\n",
       "             'friends': [{...},\n",
       "              {'id': 7, 'name': 'Devin', 'friends': [{...}, {...}]},\n",
       "              {'id': 9, 'name': 'Klein', 'friends': [{...}]}]}]},\n",
       "          {'id': 7,\n",
       "           'name': 'Devin',\n",
       "           'friends': [{...},\n",
       "            {'id': 8,\n",
       "             'name': 'Kate',\n",
       "             'friends': [{'id': 6, 'name': 'Hicks', 'friends': [{...}, {...}]},\n",
       "              {...},\n",
       "              {'id': 9, 'name': 'Klein', 'friends': [{...}]}]}]}]}]}]}]}]}"
      ]
     },
     "execution_count": 16,
     "metadata": {},
     "output_type": "execute_result"
    }
   ],
   "source": [
    "users[0]"
   ]
  },
  {
   "cell_type": "code",
   "execution_count": 25,
   "metadata": {},
   "outputs": [
    {
     "name": "stdout",
     "output_type": "stream",
     "text": [
      "[1, 2]\n",
      "[0, 2, 3]\n",
      "[0, 1, 3]\n"
     ]
    }
   ],
   "source": [
    "print([friend['id'] for friend in users[0]['friends']])\n",
    "print([friend['id'] for friend in users[1]['friends']])\n",
    "print([friend['id'] for friend in users[2]['friends']])"
   ]
  },
  {
   "cell_type": "code",
   "execution_count": 26,
   "metadata": {},
   "outputs": [],
   "source": [
    "from collections import Counter"
   ]
  },
  {
   "cell_type": "code",
   "execution_count": 40,
   "metadata": {},
   "outputs": [],
   "source": [
    "def not_the_same(user, other_user):\n",
    "    '''만약 두 사용자의 id가 다르면 다른 사용자로 인식'''\n",
    "    return user['id'] != other_user['id']\n",
    "\n",
    "def not_friends(user, other_user):\n",
    "    '''만약 other_user가 user['friend']에 포함되어 있지 않으면 친구가 아닌 것으로 간주함.;\n",
    "    즉, other_user를 not_the_same 함수를 사용해서 user['friends']에 포함된 사람과 다르다고 인식'''\n",
    "    return all(not_the_same(friend, other_user) for friend in user['friends'])\n",
    "\n",
    "def friends_of_friend_ids(user):\n",
    "    return Counter(foaf['id']\n",
    "                  for friend in user['friends']  # 사용자의 친구 개개인에 대해\n",
    "                  for foaf in friend['friends']  # 그들의 친구들을 세어보고\n",
    "                  if not_the_same(user, foaf)  # 사용자 자신과\n",
    "                  and not_friends(user, foaf))  # 사용자의 친구는 제외"
   ]
  },
  {
   "cell_type": "code",
   "execution_count": 44,
   "metadata": {},
   "outputs": [
    {
     "name": "stdout",
     "output_type": "stream",
     "text": [
      "Counter({0: 2, 5: 1})\n"
     ]
    }
   ],
   "source": [
    "print(friends_of_friend_ids(users[3]))"
   ]
  },
  {
   "cell_type": "code",
   "execution_count": 45,
   "metadata": {},
   "outputs": [],
   "source": [
    "interests = [\n",
    "    (0, \"Hadoop\"), (0, \"Big Data\"), (0, \"HBase\"), (0, \"Java\"),\n",
    "    (0, \"Spark\"), (0, \"Storm\"), (0, \"Cassandra\"),\n",
    "    (1, \"NoSQL\"), (1, \"MongoDB\"), (1, \"Cassandra\"), (1, \"HBase\"),\n",
    "    (1, \"Postgres\"), (2, \"Python\"), (2, \"scikit-learn\"), (2, \"scipy\"),\n",
    "    (2, \"numpy\"), (2, \"statsmodels\"), (2, \"pandas\"), (3, \"R\"), (3, \"Python\"),\n",
    "    (3, \"statistics\"), (3, \"regression\"), (3, \"probability\"),\n",
    "    (4, \"machine learning\"), (4, \"regression\"), (4, \"decision trees\"),\n",
    "    (4, \"libsvm\"), (5, \"Python\"), (5, \"R\"), (5, \"Java\"), (5, \"C++\"),\n",
    "    (5, \"Haskell\"), (5, \"programming languages\"), (6, \"statistics\"),\n",
    "    (6, \"probability\"), (6, \"mathematics\"), (6, \"theory\"),\n",
    "    (7, \"machine learning\"), (7, \"scikit-learn\"), (7, \"Mahout\"),\n",
    "    (7, \"neural networks\"), (8, \"neural networks\"), (8, \"deep learning\"),\n",
    "    (8, \"Big Data\"), (8, \"artificial intelligence\"), (9, \"Hadoop\"),\n",
    "    (9, \"Java\"), (9, \"MapReduce\"), (9, \"Big Data\")\n",
    "]"
   ]
  },
  {
   "cell_type": "code",
   "execution_count": 46,
   "metadata": {},
   "outputs": [],
   "source": [
    "def data_scientists_who_like(target_interest):\n",
    "    return[user_id\n",
    "          for user_id, usr_interest in interests\n",
    "          if user_interest == target_interest]"
   ]
  },
  {
   "cell_type": "code",
   "execution_count": 47,
   "metadata": {},
   "outputs": [],
   "source": [
    "from collections import defaultdict\n",
    "\n",
    "# 각 관심사에 대한 사용자 인덱스 만들기\n",
    "# key가 관심사, value가 사용자 id\n",
    "user_ids_by_interest = defaultdict(list)\n",
    "\n",
    "for user_id, interest in interests:\n",
    "    user_ids_by_interest[interest].append(user_id)"
   ]
  },
  {
   "cell_type": "code",
   "execution_count": 48,
   "metadata": {},
   "outputs": [],
   "source": [
    "# 각 사용자에 대한 관심사 인덱스 만들기\n",
    "# key가 사용자 id, value가 관심사\n",
    "interests_by_user_id = defaultdict(list)\n",
    "\n",
    "for user_id, interest in interests:\n",
    "    interests_by_user_id[user_id].append(interest)"
   ]
  },
  {
   "cell_type": "code",
   "execution_count": 49,
   "metadata": {},
   "outputs": [],
   "source": [
    "def most_common_interests_with(user_id):\n",
    "    return Counter(interested_user_id\n",
    "                   for interest in interests_by_user_id[user_id]\n",
    "                   for interested_user_id in user_ids_by_interest[interest]\n",
    "                   if interested_user_id != user['id'])"
   ]
  },
  {
   "cell_type": "markdown",
   "metadata": {},
   "source": [
    "### 1.3.3 연봉과 경력"
   ]
  },
  {
   "cell_type": "code",
   "execution_count": 50,
   "metadata": {},
   "outputs": [],
   "source": [
    "salaries_and_tenures = [(83000, 8.7), (88000, 8.1),\n",
    "                        (48000, 0.7), (76000, 6),\n",
    "                        (69000, 6.5), (76000, 7.5),\n",
    "                        (60000, 2.5), (83000, 10),\n",
    "                        (48000, 1.9), (63000, 4.2)]"
   ]
  },
  {
   "cell_type": "code",
   "execution_count": 55,
   "metadata": {},
   "outputs": [
    {
     "data": {
      "image/png": "[encoded data removed]",
      "text/plain": [
       "<Figure size 432x288 with 1 Axes>"
      ]
     },
     "metadata": {
      "needs_background": "light"
     },
     "output_type": "display_data"
    }
   ],
   "source": [
    "from matplotlib import pyplot as plt\n",
    "\n",
    "def make_chart_salaries_by_tenure():\n",
    "    tenures = [tenure for salary, tenure in salaries_and_tenures]\n",
    "    salaries = [salary for salary, tenure in salaries_and_tenures]\n",
    "    plt.scatter(tenures, salaries)\n",
    "    plt.xlabel(\"Years Experience\")\n",
    "    plt.ylabel(\"Salary\")\n",
    "    plt.show()\n",
    "    \n",
    "make_chart_salaries_by_tenure()"
   ]
  },
  {
   "cell_type": "code",
   "execution_count": 56,
   "metadata": {},
   "outputs": [],
   "source": [
    "# key는 근속 연수, value는 해당 근속 연수에 대한 연봉 목록\n",
    "salary_by_tenure = defaultdict(list)\n",
    "\n",
    "for salary, tenure in salaries_and_tenures:\n",
    "    salary_by_tenure[tenure].append(salary)\n",
    "    \n",
    "# key는 근속 연수, value는 해당 근속 연수의 평균 연봉\n",
    "average_salary_by_tenure = {\n",
    "    tenure : sum(salaries) / len(salaries)\n",
    "    for tenure, salaries in salary_by_tenure.items()\n",
    "} "
   ]
  },
  {
   "cell_type": "code",
   "execution_count": 58,
   "metadata": {},
   "outputs": [
    {
     "data": {
      "text/plain": [
       "defaultdict(list,\n",
       "            {8.7: [83000],\n",
       "             8.1: [88000],\n",
       "             0.7: [48000],\n",
       "             6: [76000],\n",
       "             6.5: [69000],\n",
       "             7.5: [76000],\n",
       "             2.5: [60000],\n",
       "             10: [83000],\n",
       "             1.9: [48000],\n",
       "             4.2: [63000]})"
      ]
     },
     "execution_count": 58,
     "metadata": {},
     "output_type": "execute_result"
    }
   ],
   "source": [
    "salary_by_tenure"
   ]
  },
  {
   "cell_type": "code",
   "execution_count": 59,
   "metadata": {},
   "outputs": [],
   "source": [
    "def tenure_bucket(tenure):\n",
    "    if tenure < 2:\n",
    "        return 'less than two'\n",
    "    elif tenure < 5:\n",
    "        return 'between two and five'\n",
    "    else:\n",
    "        return 'more than five'"
   ]
  },
  {
   "cell_type": "code",
   "execution_count": 61,
   "metadata": {},
   "outputs": [],
   "source": [
    "# key는 근속 연수 구간, value는 해당 구간에 속하는 사용자들의 연봉\n",
    "salary_by_tenure_bucket = defaultdict(list)\n",
    "for salary, tenure in salaries_and_tenures:\n",
    "    bucket = tenure_bucket(tenure)\n",
    "    salary_by_tenure_bucket[bucket].append(salary)"
   ]
  },
  {
   "cell_type": "code",
   "execution_count": 64,
   "metadata": {},
   "outputs": [],
   "source": [
    "# key는 근속 연수 구간, value는 해당 구간에 속하는 사용자들의 평균 연봉\n",
    "average_salary_by_bucket = {\n",
    "    tenure_bucket : sum(salaries) / len(salaries)\n",
    "    for tenure_bucket, salaries in salary_by_tenure_bucket.items()\n",
    "}"
   ]
  },
  {
   "cell_type": "code",
   "execution_count": 65,
   "metadata": {},
   "outputs": [
    {
     "data": {
      "text/plain": [
       "{'more than five': 79166.66666666667,\n",
       " 'less than two': 48000.0,\n",
       " 'between two and five': 61500.0}"
      ]
     },
     "execution_count": 65,
     "metadata": {},
     "output_type": "execute_result"
    }
   ],
   "source": [
    "average_salary_by_bucket"
   ]
  },
  {
   "cell_type": "markdown",
   "metadata": {},
   "source": [
    "### 1.3.4 유료 계정"
   ]
  },
  {
   "cell_type": "code",
   "execution_count": 66,
   "metadata": {},
   "outputs": [],
   "source": [
    "def predict_paid_or_unpaid(years_experience):\n",
    "    if years_experience < 3.0:\n",
    "        return 'paid'\n",
    "    elif years_experience < 8.5:\n",
    "        return 'unpaid'\n",
    "    else:\n",
    "        return 'paid'   "
   ]
  },
  {
   "cell_type": "markdown",
   "metadata": {},
   "source": [
    "### 1.3.5 관심 주제"
   ]
  },
  {
   "cell_type": "code",
   "execution_count": 68,
   "metadata": {},
   "outputs": [],
   "source": [
    "words_and_counts = Counter(word\n",
    "                          for user, interest in interests\n",
    "                          for word in interest.lower().split())"
   ]
  },
  {
   "cell_type": "code",
   "execution_count": 70,
   "metadata": {},
   "outputs": [
    {
     "name": "stdout",
     "output_type": "stream",
     "text": [
      "big 3\n",
      "data 3\n",
      "java 3\n",
      "python 3\n",
      "learning 3\n",
      "hadoop 2\n",
      "hbase 2\n",
      "cassandra 2\n",
      "scikit-learn 2\n",
      "r 2\n",
      "statistics 2\n",
      "regression 2\n",
      "probability 2\n",
      "machine 2\n",
      "neural 2\n",
      "networks 2\n"
     ]
    }
   ],
   "source": [
    "for word, count in words_and_counts.most_common():\n",
    "    if count > 1:\n",
    "        print(word, count)"
   ]
  },
  {
   "cell_type": "code",
   "execution_count": null,
   "metadata": {},
   "outputs": [],
   "source": []
  }
 ],
 "metadata": {
  "kernelspec": {
   "display_name": "Python 3",
   "language": "python",
   "name": "python3"
  },
  "language_info": {
   "codemirror_mode": {
    "name": "ipython",
    "version": 3
   },
   "file_extension": ".py",
   "mimetype": "text/x-python",
   "name": "python",
   "nbconvert_exporter": "python",
   "pygments_lexer": "ipython3",
   "version": "3.7.3"
  }
 },
 "nbformat": 4,
 "nbformat_minor": 2
}
