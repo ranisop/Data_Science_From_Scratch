{
 "cells": [
  {
   "cell_type": "markdown",
   "metadata": {},
   "source": [
    "## 7.1. 통계적 가설 검정\n",
    "- 고전적인 가설검정에서는 어떤 기본적인 가설을 의미하는 귀무가설(H_0, null hypothesis)과 비교하고 싶은 대립가설(H_1, alternative hypothesis)로 구성되어 있으며, 통계를 사용해서 H_0을 기각할지 말지를 결정한다."
   ]
  },
  {
   "cell_type": "markdown",
   "metadata": {},
   "source": [
    "## 7.2. 예시: 동전 던지기\n",
    "- 동전에서 앞면이 나올 확률이 p라고 하면, 동전이 공평하다는 의미의 'p=0.5이다'는 귀무가설이 되고, 'p≠0.5이다'는 대립가설이 된다.\n",
    "- 동전을 n번 던져서 앞면이 나온 횟수 X를 세는 것으로 검정을 진행해 보자.<br> 동전 던지기는 각각 베르누이 분포를 따를 것이며, 이는 X가 이항분포를 따르는 확률변수라는 것을 의미한다.\n",
    "- 제1종 오류 :  비록 H_0가 참이지만 H_0를 기각하는 'false positive(가양성)' 오류\n",
    "- 유의수준(significance) : 제1종 오류를 얼마나 허용해 줄 것인지를 의미, 보통 5%나 1%로 설정하는 경우가 많다.\n",
    "- 제2종 오류 : H_0가 거짓이지만 H_0를 기각하지 않는 오류를 의미하기 때문에, 제2종 오류를 측정하기 위해서는 먼저 H_0가 거짓이라는 것이 무엇을 의미하는지 알아볼 필요가 있다.\n",
    "- 검정력(power) : 제2종 오류를 범하지 않을 확률"
   ]
  },
  {
   "cell_type": "code",
   "execution_count": 7,
   "metadata": {},
   "outputs": [],
   "source": [
    "def normal_approximation_to_binomial(n, p):\n",
    "    '''Binomial(n, p)에 해당되는 mu(평균)와 sigma(표준편차) 계산'''\n",
    "    mu = p * n\n",
    "    sigma = math.sqrt(p * (1 - p) * n)\n",
    "    return mu, sigma"
   ]
  },
  {
   "cell_type": "code",
   "execution_count": 8,
   "metadata": {},
   "outputs": [],
   "source": [
    "# ch06에서 사용한 정규분포의 누적분포함수\n",
    "def normal_cdf(x, mu=0, sigma=1):\n",
    "    return (1 + math.erf((x - mu) / math.sqrt(2) / sigma)) / 2"
   ]
  },
  {
   "cell_type": "code",
   "execution_count": 9,
   "metadata": {},
   "outputs": [],
   "source": [
    "# 확률변수가 정규분포를 따른다는 가정하에, \n",
    "# normal_cdf를 사용하면 실제 동전 던지기로부터 얻은 값이 구간 안(혹은 밖)에 존재할 확률을 계산할 수 있다.\n",
    "\n",
    "# 누적분포함수는 확률변수가 특정 값보다 작을 확률을 나타낸다.\n",
    "normal_probability_below = normal_cdf\n",
    "\n",
    "# 만약 확률변수가 특정 값보다 작지 않다면, 특정 값보다 크다는 것을 의미한다.\n",
    "def normal_probability_above(lo, mu=0, sigma=1):\n",
    "    return 1 - normal_cdf(lo, mu, sigma)\n",
    "\n",
    "# 만약 확률변수가 hi보다 작고 lo보다 작지 않으면, 확률변수는 hi와 lo 사이에 존재한다.\n",
    "def normal_probability_between(lo, hi, mu=0, sigma=1):\n",
    "    return normal_cdf(hi, mu, sigma) - normal_cdf(lo, mu, sigma)\n",
    "\n",
    "# 만약 확률변수가 범위 밖에 존재한다면, 범위 안에 존재하지 않다는 것을 의미한다.\n",
    "def normal_probability_outside(lo, hi, mu=0, sigma=1):\n",
    "    return 1 - normal_probability_between(lo, hi, mu, sigma)"
   ]
  },
  {
   "cell_type": "code",
   "execution_count": 10,
   "metadata": {},
   "outputs": [],
   "source": [
    "# 반대로, 확률이 주어졌을 때 평균을 중심으로 하는 (대칭적인) 구간을 구할 수도 있다.\n",
    "\n",
    "def normal_upper_bound(probability, mu=0, sigma=1):\n",
    "    '''P(Z <= z) = probability인 z값을 반환'''\n",
    "    return inverse_normal_cdf(probability, mu, sigma)\n",
    "\n",
    "def normal_lower_bound(probability, mu=0, sigma=1):\n",
    "    '''P(Z >= z) = probability인 z값을 반환'''\n",
    "    return inverse_normal_cdf(1 - probability, mu, sigma)\n",
    "\n",
    "def normal_two_sided_bounds(probability, mu=0, sigma=1):\n",
    "    '''입력한 probability 값을 포함하고, 평균을 중심으로 대칭적인 구간을 반환'''\n",
    "    tail_probability = (1 - probability) / 2\n",
    "    \n",
    "    # 구간의 상항은 tail_probability 값 이상의 확률 값을 갖고 있다.\n",
    "    upper_bound = normal_lower_bound(tail_probability, mu, sigma)\n",
    "    \n",
    "    # 구간의 하한은 tail_probability 값 이하의 확률 값을 갖고 있다.\n",
    "    lower_bound = normal_upper_bound(tail_probability, mu, sigma)\n",
    "    \n",
    "    return lower_bound, upper_bound"
   ]
  },
  {
   "cell_type": "code",
   "execution_count": 15,
   "metadata": {},
   "outputs": [],
   "source": [
    "# ch06에서 사용한 역함수\n",
    "def inverse_normal_cdf(p, mu=0, sigma=1, tolerance=0.00001):\n",
    "    '''이진 검색을 사용해서 역함수를 근사'''\n",
    "    # 표준정규분포가 아니라면 표준정규분포로 변환\n",
    "    if mu != 0 or sigma != 1:\n",
    "        return mu + sigma * inverse_normal_cdf(p, tolerance=tolerance)\n",
    "    \n",
    "    low_z, low_p = -10.0, 0  # normal_cdf(-10)는 0에 근접\n",
    "    hi_z, hi_p = 10.0, 1  # normal_cdf(10)는 1에 근접\n",
    "    while hi_z - low_z > tolerance:\n",
    "        mid_z = (low_z + hi_z) / 2  # 중간 값\n",
    "        mid_p = normal_cdf(mid_z)  # 중간 값의 누적분포 값을 계산\n",
    "        if mid_p < p:\n",
    "            # 중간 값이 너무 작다면 더 큰 값들을 검색\n",
    "            low_z, low_p = mid_z, mid_p\n",
    "        elif mid_p > p:\n",
    "            # 중간 값이 너무 크다면 더 작은 값들을 검색\n",
    "            hi_z, hi_p = mid_z, mid_p\n",
    "        else:\n",
    "            break\n",
    "    return mid_z\n",
    "\n",
    "# 위의 함수는 원하는 확률 값에 가까워질 때까지 표준정규분포의 구간을 반복적으로 이등분한다."
   ]
  },
  {
   "cell_type": "code",
   "execution_count": 16,
   "metadata": {},
   "outputs": [
    {
     "data": {
      "text/plain": [
       "(469.01026640487555, 530.9897335951244)"
      ]
     },
     "execution_count": 16,
     "metadata": {},
     "output_type": "execute_result"
    }
   ],
   "source": [
    "mu_0, sigma_0 = normal_approximation_to_binomial(1000, 0.5)\n",
    "\n",
    "normal_two_sided_bounds(0.95, mu_0, sigma_0)"
   ]
  },
  {
   "cell_type": "code",
   "execution_count": 19,
   "metadata": {},
   "outputs": [
    {
     "data": {
      "text/plain": [
       "0.8865480012953671"
      ]
     },
     "execution_count": 19,
     "metadata": {},
     "output_type": "execute_result"
    }
   ],
   "source": [
    "# p가 0.5라고 가정할 때, 유의수준이 5%인 구간\n",
    "lo, hi = normal_two_sided_bounds(0.95, mu_0, sigma_0)\n",
    "\n",
    "# p = 0.55인 경우의 실제 평균과 표준편차\n",
    "mu_1, sigma_1 = normal_approximation_to_binomial(1000, 0.55)\n",
    "\n",
    "# 제2종 오류란 귀무가설(H_0)을 기각하지 못한다는 의미\n",
    "# 즉, X가 주어진 구간 안에 존재할 경우를 의미\n",
    "type_2_probability = normal_probability_between(lo, hi, mu_1, sigma_1)\n",
    "power = 1 - type_2_probability\n",
    "power"
   ]
  },
  {
   "cell_type": "code",
   "execution_count": 20,
   "metadata": {},
   "outputs": [
    {
     "data": {
      "text/plain": [
       "526.0073585242053"
      ]
     },
     "execution_count": 20,
     "metadata": {},
     "output_type": "execute_result"
    }
   ],
   "source": [
    "hi = normal_upper_bound(0.95, mu_0, sigma_0)\n",
    "hi  # 526 (<531, 분포 상위 부분에 더 높은 확률을 주기 위해서)"
   ]
  },
  {
   "cell_type": "code",
   "execution_count": 21,
   "metadata": {},
   "outputs": [
    {
     "data": {
      "text/plain": [
       "0.9363794803307173"
      ]
     },
     "execution_count": 21,
     "metadata": {},
     "output_type": "execute_result"
    }
   ],
   "source": [
    "type_2_probability = normal_probability_below(hi, mu_1, sigma_1)\n",
    "power = 1 - type_2_probability\n",
    "power "
   ]
  },
  {
   "cell_type": "markdown",
   "metadata": {},
   "source": [
    "## 7.3. p-value\n",
    "- 어떤 확률 값을 기준으로 구간을 선택하는 대신에, H_0가 참이라고 가정하고 실제로 관측된 값보다 더 극단적인 값이 나올 확률을 구하는 것."
   ]
  },
  {
   "cell_type": "code",
   "execution_count": 26,
   "metadata": {},
   "outputs": [
    {
     "name": "stdout",
     "output_type": "stream",
     "text": [
      "529.5: 0.06207721579598835\n",
      "530: 0.05777957112359733\n"
     ]
    }
   ],
   "source": [
    "def two_sided_p_value(x, mu=0, sigma=1):\n",
    "    if x >= mu:\n",
    "        # 만약 x가 평균보다 크다면, x보다 큰 부분이 꼬리다\n",
    "        return 2 * normal_probability_above(x, mu, sigma)\n",
    "    else:\n",
    "        # 만약 x가 평균보다 작다면, x보다 작은 부분이 꼬리다\n",
    "        return 2 * normal_probability_below(x, mu, sigma)\n",
    "    \n",
    "print('529.5:',two_sided_p_value(529.5, mu_0, sigma_0))  # 0.06207721579598835\n",
    "print('530:', two_sided_p_value(530, mu_0, sigma_0)) # 0.05777957112359733\n",
    "# 연속수정(continuity correction)때문에 530 대신 529.5가 더 정확하다."
   ]
  },
  {
   "cell_type": "code",
   "execution_count": null,
   "metadata": {},
   "outputs": [],
   "source": []
  },
  {
   "cell_type": "code",
   "execution_count": null,
   "metadata": {},
   "outputs": [],
   "source": []
  },
  {
   "cell_type": "code",
   "execution_count": null,
   "metadata": {},
   "outputs": [],
   "source": []
  },
  {
   "cell_type": "code",
   "execution_count": null,
   "metadata": {},
   "outputs": [],
   "source": []
  },
  {
   "cell_type": "code",
   "execution_count": null,
   "metadata": {},
   "outputs": [],
   "source": []
  },
  {
   "cell_type": "code",
   "execution_count": null,
   "metadata": {},
   "outputs": [],
   "source": []
  }
 ],
 "metadata": {
  "kernelspec": {
   "display_name": "Python 3",
   "language": "python",
   "name": "python3"
  },
  "language_info": {
   "codemirror_mode": {
    "name": "ipython",
    "version": 3
   },
   "file_extension": ".py",
   "mimetype": "text/x-python",
   "name": "python",
   "nbconvert_exporter": "python",
   "pygments_lexer": "ipython3",
   "version": "3.7.3"
  }
 },
 "nbformat": 4,
 "nbformat_minor": 2
}
