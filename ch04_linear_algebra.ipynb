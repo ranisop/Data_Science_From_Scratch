{
 "cells": [
  {
   "cell_type": "markdown",
   "metadata": {},
   "source": [
    "## 4.1. 벡터\n",
    "- 벡터는 벡터끼리 더하거나 상수와 곱해지면 새로운 벡터를 생성하는 개념적인 도구이다.\n",
    "- 벡터는 어떤 유한한 차원의 공간에 존재하는 점들이다.\n",
    "- 대부분의 데이터, 특히 숫자로 표현된 데이터는 벡터로 표현할 수 있다.\n",
    "- 벡터를 가장 간단하게 표현하는 방법은 숫자로 구성된 list로 표현하는 것이다.<br>(예를 들어, 3차원 벡터는 세 개의 숫자로 구성된 list로 표현할 수 있다.)"
   ]
  },
  {
   "cell_type": "code",
   "execution_count": 7,
   "metadata": {},
   "outputs": [],
   "source": [
    "# from __future__ import division # want 3 / 2 == 1.5\n",
    "import re, math, random # regexes, math functions, random numbers\n",
    "import matplotlib.pyplot as plt # pyplot\n",
    "from collections import defaultdict, Counter\n",
    "from functools import partial"
   ]
  },
  {
   "cell_type": "code",
   "execution_count": 8,
   "metadata": {},
   "outputs": [],
   "source": [
    "height_weight_age = [70, 170, 40]  # 인치, 파운드, 나이\n",
    "grades = [95, 80, 75, 62]  # 시험 1, 2, 3, 4의 점수"
   ]
  },
  {
   "cell_type": "code",
   "execution_count": 9,
   "metadata": {},
   "outputs": [],
   "source": [
    "def vector_add(v, w):\n",
    "    '''각 성분끼리 더한다'''\n",
    "    return [v_i + w_i \n",
    "           for v_i, w_i in zip(v, w)]\n",
    "\n",
    "def vector_subtract(v, w):\n",
    "    '''각 성분끼리 뺀다'''\n",
    "    return [v_i - w_i\n",
    "           for v_i, w_i in zip(v, w)]"
   ]
  },
  {
   "cell_type": "code",
   "execution_count": 15,
   "metadata": {},
   "outputs": [
    {
     "name": "stdout",
     "output_type": "stream",
     "text": [
      "[165, 250, 115]\n",
      "[-25, 90, -35]\n"
     ]
    }
   ],
   "source": [
    "print(vector_add(height_weight_age, grades))\n",
    "print(vector_subtract(height_weight_age, grades))"
   ]
  },
  {
   "cell_type": "code",
   "execution_count": 25,
   "metadata": {},
   "outputs": [],
   "source": [
    "def vector_sum(vectors):\n",
    "    '''모든 벡터의 각 성분들끼리 더한다'''\n",
    "    result = vectors[0]  # 첫 번째 벡터부터 시작해서\n",
    "    for vector in vectors[1:]:  # 나머지 벡터들을\n",
    "        result = vector_add(result, vector)  # 더해 준다.\n",
    "    return result\n",
    "\n",
    "# 이 방법은 벡터 list에 vector_add를 누적시켜서 적용하는 것과 다를 것이 없다.\n",
    "# 즉, reduce를 사용해서 더 간략하고 일반적인 함수로 표현할 수도 있다.\n",
    "def vector_sum(vectors):\n",
    "    return reduce(vector_add, vectors)"
   ]
  },
  {
   "cell_type": "code",
   "execution_count": null,
   "metadata": {},
   "outputs": [],
   "source": [
    "# 아니면 다음과 같이 조금 더 멋있게 표현할 수도 있다.\n",
    "vector_sum = partial(reduce, vector_add)"
   ]
  },
  {
   "cell_type": "code",
   "execution_count": 30,
   "metadata": {},
   "outputs": [],
   "source": [
    "# 벡터에 스칼라를 곱해주기\n",
    "def scalar_multiply(c, v):\n",
    "    '''c는 숫자, v는 벡터'''\n",
    "    return[c * v_i for v_i in v]"
   ]
  },
  {
   "cell_type": "code",
   "execution_count": 34,
   "metadata": {},
   "outputs": [
    {
     "data": {
      "text/plain": [
       "[190, 160, 150, 124]"
      ]
     },
     "execution_count": 34,
     "metadata": {},
     "output_type": "execute_result"
    }
   ],
   "source": [
    "scalar_multiply(2, grades)"
   ]
  },
  {
   "cell_type": "code",
   "execution_count": 13,
   "metadata": {},
   "outputs": [],
   "source": [
    "# 같은 길이의 벡터로 구성된 list가 주어졌을 때 각 성분별 평균을 구할 수 있다.\n",
    "def vector_mean(vectors):\n",
    "    '''i번째 성분이 입력된 벡터의 i번째 성분의 평균을 의미하는 벡터를 계산해 준다.'''\n",
    "    n = len(vectors)\n",
    "    return scalar_multiply(1/n, vector_sum(vectors))"
   ]
  },
  {
   "cell_type": "code",
   "execution_count": 38,
   "metadata": {},
   "outputs": [],
   "source": [
    "# 벡터의 내적은 벡터의 각 성분별 곱한 값을 더해 준 값이다.\n",
    "# 내적은 벡터 v가 벡터 w 방향으로 얼마나 멀리 뻗어 나가는지를 나타낸다.\n",
    "def dot(v, w):\n",
    "    '''(v_1 * w_1) + ... + (v_n * w_n)'''\n",
    "    return sum(v_i * w_i\n",
    "              for v_i, w_i in zip(v, w))\n",
    "\n",
    "# 내적의 개념을 사용하면, 각 성분의 제곱 값의 합을 쉽게 구할 수 있다.\n",
    "def sum_of_squares(v):\n",
    "    '''(v_1 * v_1) + ... + (v_n * v_n)'''\n",
    "    return dot(v, v)\n",
    "\n",
    "# 제곱 값의 합을 이용하면 벡터의 크기를 계산할 수 있다.\n",
    "import math\n",
    "def magnitude(v):\n",
    "    return math.sqrt(sum_of_squares(v))  # math.sqrt는 제곱근을 계산해 주는 함수\n",
    "\n",
    "def squared_distance(v, w):\n",
    "    '''(v_1 - w_1) ** 2 + ... + (v_n - w_n) ** 2'''\n",
    "    return sum_of_squares(vector_subtract(v, w))\n",
    "\n",
    "def distance(v, w):\n",
    "    return magnitude(vector_subtract(v, w))"
   ]
  },
  {
   "cell_type": "markdown",
   "metadata": {},
   "source": [
    "## 4.2. 행렬\n",
    "- 행렬은 2차원으로 구성된 숫자의 집합이며, list의 list로 표현할 수 있다.\n",
    "- list 안의 list들은 행렬의 행을 나타내며 모두 같은 길이를 가지게 된다.\n",
    "- 행렬은 몇 가지 이유로 중요해질 것이다.\n",
    ">1) 각 벡터를 행렬의 행으로 나타냄으로써 여러 벡터로 구성된 데이터셋을 행렬로 표현할 수 있다.<br>\n",
    ">2) k차원의 벡터를 n차원 벡터로 변환해주는 선형함수를 n x k 행렬로 표현할 수 있다.<br>\n",
    ">3) 행렬로 이진관계(binary relationship)를 나타낼 수 있다."
   ]
  },
  {
   "cell_type": "code",
   "execution_count": 39,
   "metadata": {},
   "outputs": [],
   "source": [
    "A = [[1, 2, 3], [4, 5, 6]]  # A는 2개의 행과 3개의 열로 구성되어 있다.\n",
    "B = [[1, 2], [3, 4], [5, 6]]  # B는 3개의 행과 2개의 열로 구성되어 있다."
   ]
  },
  {
   "cell_type": "code",
   "execution_count": 40,
   "metadata": {},
   "outputs": [
    {
     "name": "stdout",
     "output_type": "stream",
     "text": [
      "(2, 3)\n",
      "(3, 2)\n"
     ]
    }
   ],
   "source": [
    "# 행렬을 list들의 list로 나타내는 경우, 행렬 A는 len(A)개의 행과 len(A[0])개의 열로 구성되어 있다.\n",
    "def shape(A):\n",
    "    num_rows = len(A)\n",
    "    num_cols = len(A[0]) if A else 0  # 첫 번째 행이 갖고 있는 원소의 수\n",
    "    return num_rows, num_cols\n",
    "\n",
    "print(shape(A))\n",
    "print(shape(B))"
   ]
  },
  {
   "cell_type": "code",
   "execution_count": 42,
   "metadata": {},
   "outputs": [
    {
     "name": "stdout",
     "output_type": "stream",
     "text": [
      "[1, 2, 3]\n",
      "[1, 4]\n"
     ]
    }
   ],
   "source": [
    "# 행렬이 n개의 행과 k개의 열로 구성되어 있다면 이 행렬을 n x k 행렬이라고 부르자.\n",
    "# n x k 행렬에서 각 행의 길이는 k이고 각 열의 길이는 n이다.\n",
    "def get_row(A, i):\n",
    "    return A[i]  # A[i]는 i번째 행을 나타낸다.\n",
    "\n",
    "def get_column(A, j):\n",
    "    return [A_i[j]  # A_i행의 j번째 원소\n",
    "           for A_i in A]  # 각 A_i행에 대해\n",
    "\n",
    "print(get_row(A,0))  # A행렬의 0번째 행 출력\n",
    "print(get_column(A,0))  # A행렬의 0번째 열 출력"
   ]
  },
  {
   "cell_type": "code",
   "execution_count": 50,
   "metadata": {},
   "outputs": [],
   "source": [
    "# 이제 형태가 주어졌을 때, 형태에 맞는 행렬을 생성하고 각 원소를 채워 넣는 함수를 만들어 보자.\n",
    "# 중첩된 list coprehension을 사용해서 만들어 볼 것이다.\n",
    "def make_matrix(num_rows, num_cols, entry_fn):\n",
    "    '''(i, j)번째 원소가 entry_fn(i, j)인 num_rows x num_cols list를 반환'''\n",
    "    return [[entry_fn(i, j)  # i가 주어졌을 때, list를 생성한다.\n",
    "            for j in range(num_cols)]  # [entry_fn(i, 0), ...]\n",
    "            for i in range(num_rows)]  # 각 i에 대해 하나의 list를 생성한다."
   ]
  },
  {
   "cell_type": "code",
   "execution_count": 55,
   "metadata": {},
   "outputs": [
    {
     "data": {
      "text/plain": [
       "[[1, 0, 0, 0, 0],\n",
       " [0, 1, 0, 0, 0],\n",
       " [0, 0, 1, 0, 0],\n",
       " [0, 0, 0, 1, 0],\n",
       " [0, 0, 0, 0, 1]]"
      ]
     },
     "execution_count": 55,
     "metadata": {},
     "output_type": "execute_result"
    }
   ],
   "source": [
    "# 5x5 단위 행렬(대각선의 원소는 1이고 나머지 원소는 0인 경우)를 생성할 수 있다.\n",
    "def is_diagonal(i, j):\n",
    "    '''대각선의 원소는 1, 나머지 원소는 0'''\n",
    "    return 1 if i == j else 0\n",
    "\n",
    "identity_matrix = make_matrix(5, 5, is_diagonal)\n",
    "identity_matrix"
   ]
  },
  {
   "cell_type": "code",
   "execution_count": 56,
   "metadata": {},
   "outputs": [],
   "source": [
    "#          user 0  1  2  3  4  5  6  7  8  9\n",
    "#\n",
    "friendships = [[0, 1, 1, 0, 0, 0, 0, 0, 0, 0], # user 0\n",
    "               [1, 0, 1, 1, 0, 0, 0, 0, 0, 0], # user 1\n",
    "               [1, 1, 0, 1, 0, 0, 0, 0, 0, 0], # user 2\n",
    "               [0, 1, 1, 0, 1, 0, 0, 0, 0, 0], # user 3\n",
    "               [0, 0, 0, 1, 0, 1, 0, 0, 0, 0], # user 4\n",
    "               [0, 0, 0, 0, 1, 0, 1, 1, 0, 0], # user 5\n",
    "               [0, 0, 0, 0, 0, 1, 0, 0, 1, 0], # user 6\n",
    "               [0, 0, 0, 0, 0, 1, 0, 0, 1, 0], # user 7\n",
    "               [0, 0, 0, 0, 0, 0, 1, 1, 0, 1], # user 8\n",
    "               [0, 0, 0, 0, 0, 0, 0, 0, 1, 0]] # user 9"
   ]
  },
  {
   "cell_type": "code",
   "execution_count": 59,
   "metadata": {},
   "outputs": [
    {
     "data": {
      "text/plain": [
       "False"
      ]
     },
     "execution_count": 59,
     "metadata": {},
     "output_type": "execute_result"
    }
   ],
   "source": [
    "friendships[0][2] == 1  # True\n",
    "friendships[0][8] == 1  # False"
   ]
  },
  {
   "cell_type": "code",
   "execution_count": 63,
   "metadata": {},
   "outputs": [
    {
     "data": {
      "text/plain": [
       "[4, 6, 7]"
      ]
     },
     "execution_count": 63,
     "metadata": {},
     "output_type": "execute_result"
    }
   ],
   "source": [
    "# 사용자와 누구와 연결되어 있는지 알아보기 위해서는 해당 사용자를 나타내는 열(또는 행)만 살펴보면 된다.\n",
    "friends_of_five = [i\n",
    "                  for i, is_friend in enumerate(friendships[5])\n",
    "                  if is_friend]\n",
    "friends_of_five"
   ]
  },
  {
   "cell_type": "markdown",
   "metadata": {},
   "source": [
    "## 4.3. 더 공부해 보고 싶다면\n",
    "- UC Davis 대학교에서 제공하는 선형대수 교과서\n",
    "- 세인트 마이클스 칼리지에서 제공하는 선형대수 교과서\n",
    "- 만약 조금 더 고급 내용을 탐색해보고 싶다면 Linear Algebra Done Wrong을 참조하자\n",
    "- NumPy를 사용하면 이번 장에서 만든 모든 함수들을(그리고 훨씬 더 많은 함수들을) 무료로 사용할 수 있다."
   ]
  },
  {
   "cell_type": "code",
   "execution_count": null,
   "metadata": {},
   "outputs": [],
   "source": []
  }
 ],
 "metadata": {
  "kernelspec": {
   "display_name": "Python 3",
   "language": "python",
   "name": "python3"
  },
  "language_info": {
   "codemirror_mode": {
    "name": "ipython",
    "version": 3
   },
   "file_extension": ".py",
   "mimetype": "text/x-python",
   "name": "python",
   "nbconvert_exporter": "python",
   "pygments_lexer": "ipython3",
   "version": "3.7.3"
  }
 },
 "nbformat": 4,
 "nbformat_minor": 2
}
