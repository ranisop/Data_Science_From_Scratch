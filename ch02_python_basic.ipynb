{
 "cells": [
  {
   "cell_type": "markdown",
   "metadata": {},
   "source": [
    "## 2.1. 기본기 다지기"
   ]
  },
  {
   "cell_type": "markdown",
   "metadata": {},
   "source": [
    "### 2.1.3. 들여쓰기"
   ]
  },
  {
   "cell_type": "code",
   "execution_count": 73,
   "metadata": {},
   "outputs": [
    {
     "name": "stdout",
     "output_type": "stream",
     "text": [
      "1\n",
      "1\n",
      "2\n",
      "2\n",
      "3\n",
      "3\n",
      "4\n",
      "4\n",
      "5\n",
      "5\n",
      "6\n",
      "1\n",
      "2\n",
      "1\n",
      "3\n",
      "2\n",
      "4\n",
      "3\n",
      "5\n",
      "4\n",
      "6\n",
      "5\n",
      "7\n",
      "2\n",
      "3\n",
      "1\n",
      "4\n",
      "2\n",
      "5\n",
      "3\n",
      "6\n",
      "4\n",
      "7\n",
      "5\n",
      "8\n",
      "3\n",
      "4\n",
      "1\n",
      "5\n",
      "2\n",
      "6\n",
      "3\n",
      "7\n",
      "4\n",
      "8\n",
      "5\n",
      "9\n",
      "4\n",
      "5\n",
      "1\n",
      "6\n",
      "2\n",
      "7\n",
      "3\n",
      "8\n",
      "4\n",
      "9\n",
      "5\n",
      "10\n",
      "5\n",
      "done looping\n"
     ]
    }
   ],
   "source": [
    "for i in [1,2,3,4,5]:\n",
    "    print(i)\n",
    "    for j in [1,2,3,4,5]:\n",
    "        print(j)\n",
    "        print(i+j)\n",
    "    print(i)\n",
    "print('done looping')"
   ]
  },
  {
   "cell_type": "code",
   "execution_count": 74,
   "metadata": {},
   "outputs": [
    {
     "data": {
      "text/plain": [
       "210"
      ]
     },
     "execution_count": 74,
     "metadata": {},
     "output_type": "execute_result"
    }
   ],
   "source": [
    "long_winded_computation = (1 + 2 + 3 + 4 + 5 + 6 + 7 + 8 + 9 + 10 + 11 + 12 + 13 + 14 + 15 + 16 + 17 + 18 + 19 + 20)\n",
    "long_winded_computation"
   ]
  },
  {
   "cell_type": "code",
   "execution_count": 75,
   "metadata": {},
   "outputs": [
    {
     "data": {
      "text/plain": [
       "[[1, 2, 3], [4, 5, 6], [7, 8, 9]]"
      ]
     },
     "execution_count": 75,
     "metadata": {},
     "output_type": "execute_result"
    }
   ],
   "source": [
    "list_of_lists = [[1,2,3], [4,5,6], [7,8,9]]\n",
    "easier_to_read_list_of_lists = [ [1,2,3],\n",
    "                               [4,5,6],\n",
    "                               [7,8,9]]\n",
    "list_of_lists\n",
    "easier_to_read_list_of_lists"
   ]
  },
  {
   "cell_type": "code",
   "execution_count": 76,
   "metadata": {},
   "outputs": [
    {
     "data": {
      "text/plain": [
       "5"
      ]
     },
     "execution_count": 76,
     "metadata": {},
     "output_type": "execute_result"
    }
   ],
   "source": [
    "# 역슬래시(backslash)를 사용하면 코드가 다음 줄로 이어지는 것을 명시할 수 있다.\n",
    "two_plus_three = 2 + \\\n",
    "3\n",
    "two_plus_three"
   ]
  },
  {
   "cell_type": "code",
   "execution_count": 77,
   "metadata": {},
   "outputs": [
    {
     "name": "stdout",
     "output_type": "stream",
     "text": [
      "1\n",
      "2\n",
      "3\n",
      "4\n",
      "5\n"
     ]
    }
   ],
   "source": [
    "for i in [1,2,3,4,5]:   \n",
    "\n",
    "    # 빈 줄이 있다는 것을 확인하자\n",
    "    print(i)"
   ]
  },
  {
   "cell_type": "markdown",
   "metadata": {},
   "source": [
    "### 2.1.4. 모듈"
   ]
  },
  {
   "cell_type": "code",
   "execution_count": 78,
   "metadata": {},
   "outputs": [],
   "source": [
    "# re : 정규표현식(regular expression, regex)을 다룰 때 필요한 다양한 함수와 상수를 포함하고 있다.\n",
    "import re\n",
    "my_regex = re.compile('[0-9]+', re.I)"
   ]
  },
  {
   "cell_type": "code",
   "execution_count": 79,
   "metadata": {},
   "outputs": [],
   "source": [
    "# 별칭(alias)을 사용할 수도 있다.\n",
    "import re as regex \n",
    "my_regex = regex.compile('[0-9]+', regex.I)"
   ]
  },
  {
   "cell_type": "code",
   "execution_count": 80,
   "metadata": {},
   "outputs": [
    {
     "data": {
      "text/plain": [
       "re.compile(r'[0-9]+', re.IGNORECASE|re.UNICODE)"
      ]
     },
     "execution_count": 80,
     "metadata": {},
     "output_type": "execute_result"
    }
   ],
   "source": [
    "my_regex"
   ]
  },
  {
   "cell_type": "code",
   "execution_count": 81,
   "metadata": {},
   "outputs": [],
   "source": [
    "import matplotlib.pyplot as plt"
   ]
  },
  {
   "cell_type": "code",
   "execution_count": 82,
   "metadata": {},
   "outputs": [],
   "source": [
    "# 모듈 하나에서 몇몇 특정 기능만 필요하다면, 전체 모듈을 불러오지 않고 해당 기능만 명시해서 불러올 수 있다.\n",
    "from collections import defaultdict, Counter\n",
    "lookup = defaultdict(int)\n",
    "my_counter = Counter()"
   ]
  },
  {
   "cell_type": "markdown",
   "metadata": {},
   "source": [
    "### 2.1.5. 연산"
   ]
  },
  {
   "cell_type": "code",
   "execution_count": 83,
   "metadata": {},
   "outputs": [
    {
     "name": "stdout",
     "output_type": "stream",
     "text": [
      "2.5\n"
     ]
    }
   ],
   "source": [
    "print(5/2)"
   ]
  },
  {
   "cell_type": "code",
   "execution_count": 84,
   "metadata": {},
   "outputs": [
    {
     "name": "stdout",
     "output_type": "stream",
     "text": [
      "2\n"
     ]
    }
   ],
   "source": [
    "print(5//2)  # 정수 나눗셈(integer division)"
   ]
  },
  {
   "cell_type": "code",
   "execution_count": 85,
   "metadata": {},
   "outputs": [],
   "source": [
    "from __future__ import division"
   ]
  },
  {
   "cell_type": "markdown",
   "metadata": {},
   "source": [
    "### 2.1.6. 함수\n",
    "- 함수란, 0개 혹은 그 이상의 인자를 입력 받아 결과를 출력하는 규칙이다.\n",
    "- 파이썬에서는 def를 이용해 함수를 정의한다."
   ]
  },
  {
   "cell_type": "code",
   "execution_count": 86,
   "metadata": {},
   "outputs": [],
   "source": [
    "def double(x):\n",
    "    '''이 곳은 함수에 대한 설명을 적어 놓는 공간이다. \n",
    "    예를 들어, '이 함수는 입력된 변수에 2를 곱한 값을 출력해 준다'라는 설명을 추가할 수 있다.'''\n",
    "    return x*2"
   ]
  },
  {
   "cell_type": "code",
   "execution_count": 87,
   "metadata": {},
   "outputs": [
    {
     "data": {
      "text/plain": [
       "10"
      ]
     },
     "execution_count": 87,
     "metadata": {},
     "output_type": "execute_result"
    }
   ],
   "source": [
    "double(5)"
   ]
  },
  {
   "cell_type": "code",
   "execution_count": 88,
   "metadata": {},
   "outputs": [],
   "source": [
    "def apply_to_one(f):\n",
    "    '''인자가 1인 함수 f를 호출'''\n",
    "    return f(1)"
   ]
  },
  {
   "cell_type": "code",
   "execution_count": 89,
   "metadata": {},
   "outputs": [
    {
     "data": {
      "text/plain": [
       "2"
      ]
     },
     "execution_count": 89,
     "metadata": {},
     "output_type": "execute_result"
    }
   ],
   "source": [
    "apply_to_one(double)"
   ]
  },
  {
   "cell_type": "code",
   "execution_count": 90,
   "metadata": {},
   "outputs": [],
   "source": [
    "# 짧은 익명의 람다 함수(lambda function)도 간편하게 만들 수 있다.\n",
    "y = apply_to_one(lambda x: x+4)"
   ]
  },
  {
   "cell_type": "code",
   "execution_count": 91,
   "metadata": {},
   "outputs": [
    {
     "data": {
      "text/plain": [
       "5"
      ]
     },
     "execution_count": 91,
     "metadata": {},
     "output_type": "execute_result"
    }
   ],
   "source": [
    "y"
   ]
  },
  {
   "cell_type": "code",
   "execution_count": 92,
   "metadata": {},
   "outputs": [],
   "source": [
    "# another_double = lambda x: 2*x # 이 방법은 피해서\n",
    "def another_double(x):\n",
    "    return 2*x"
   ]
  },
  {
   "cell_type": "code",
   "execution_count": 93,
   "metadata": {},
   "outputs": [
    {
     "name": "stdout",
     "output_type": "stream",
     "text": [
      "hello\n",
      "my default message\n"
     ]
    }
   ],
   "source": [
    "def my_print(message = 'my default message'):\n",
    "    print(message)\n",
    "\n",
    "my_print('hello')\n",
    "my_print()"
   ]
  },
  {
   "cell_type": "code",
   "execution_count": 94,
   "metadata": {},
   "outputs": [
    {
     "name": "stdout",
     "output_type": "stream",
     "text": [
      "5\n",
      "-5\n",
      "-5\n"
     ]
    }
   ],
   "source": [
    "def subtract(a=0, b=0):\n",
    "    return a-b\n",
    "\n",
    "print(subtract(10,5))  # 5\n",
    "print(subtract(0,5))  # -5\n",
    "print(subtract(b=5))  # -5"
   ]
  },
  {
   "cell_type": "markdown",
   "metadata": {},
   "source": [
    "### 2.1.7. 문자열"
   ]
  },
  {
   "cell_type": "code",
   "execution_count": 95,
   "metadata": {},
   "outputs": [],
   "source": [
    "single_quoted_string = 'data science'\n",
    "double_quoted_string = \"data science\""
   ]
  },
  {
   "cell_type": "code",
   "execution_count": 96,
   "metadata": {},
   "outputs": [
    {
     "data": {
      "text/plain": [
       "1"
      ]
     },
     "execution_count": 96,
     "metadata": {},
     "output_type": "execute_result"
    }
   ],
   "source": [
    "# 몇몇 특수 문자를 인코딩할 때 역슬래시를 사용한다.\n",
    "tab_string = '\\t'  # 탭(tab)을 의미하는 문자열\n",
    "len(tab_string)  # 1"
   ]
  },
  {
   "cell_type": "code",
   "execution_count": 97,
   "metadata": {},
   "outputs": [
    {
     "data": {
      "text/plain": [
       "2"
      ]
     },
     "execution_count": 97,
     "metadata": {},
     "output_type": "execute_result"
    }
   ],
   "source": [
    "# 문자열 앞에 r을 붙여 raw string(가공되지 않은 문자열)이라고 명시\n",
    "not_tab_string = r'\\t'  # 문자 '\\'와 't'를 나타내는 문자열\n",
    "len(not_tab_string)"
   ]
  },
  {
   "cell_type": "code",
   "execution_count": 98,
   "metadata": {},
   "outputs": [
    {
     "name": "stdout",
     "output_type": "stream",
     "text": [
      "\t\n",
      "\\t\n"
     ]
    }
   ],
   "source": [
    "print(tab_string)\n",
    "print(not_tab_string)"
   ]
  },
  {
   "cell_type": "code",
   "execution_count": 99,
   "metadata": {},
   "outputs": [
    {
     "name": "stdout",
     "output_type": "stream",
     "text": [
      "This is the first line.\n",
      "and this is the second line.\n",
      "and this is the third line.\n"
     ]
    }
   ],
   "source": [
    "# 세 개의 따옴표를 사용하면 하나의 문자열을 여러 줄로 나눠서 나타낼 수 있다.\n",
    "multi_line_string = '''This is the first line.\n",
    "and this is the second line.\n",
    "and this is the third line.'''\n",
    "\n",
    "print(multi_line_string)"
   ]
  },
  {
   "cell_type": "markdown",
   "metadata": {},
   "source": [
    "#### 예외 처리\n",
    "- 코드가 뭔가 잘못됐을 때 파이썬은 예외(exception)가 발생했음을 알려 준다. \n",
    "- 예외를 제대로 처리해 주지 않으면 프로그램이 죽는데, 이를 방지하기 위해 사용할 수 있는 것이 try와 except이다."
   ]
  },
  {
   "cell_type": "code",
   "execution_count": 100,
   "metadata": {},
   "outputs": [
    {
     "name": "stdout",
     "output_type": "stream",
     "text": [
      "cannot divide by zero\n"
     ]
    }
   ],
   "source": [
    "try:\n",
    "    print(0/0)\n",
    "except ZeroDivisionError:\n",
    "    print('cannot divide by zero')"
   ]
  },
  {
   "cell_type": "markdown",
   "metadata": {},
   "source": [
    "### 2.1.8. list[ ]\n",
    "- list : 순서가 있는 자료의 집합(collection)\n",
    "- 다른 언어에서의 배열(array)과 유사하지만, list의 기능이 조금 더 풍부하다."
   ]
  },
  {
   "cell_type": "code",
   "execution_count": 101,
   "metadata": {},
   "outputs": [],
   "source": [
    "integer_list = [1,2,3]\n",
    "heterogeneous_list = ['string', 0.1, True]\n",
    "list_of_lists = [integer_list, heterogeneous_list, []]"
   ]
  },
  {
   "cell_type": "code",
   "execution_count": 102,
   "metadata": {},
   "outputs": [
    {
     "name": "stdout",
     "output_type": "stream",
     "text": [
      "3\n",
      "6\n"
     ]
    }
   ],
   "source": [
    "list_length = len(integer_list)\n",
    "list_sum = sum(integer_list)\n",
    "\n",
    "print(list_length)\n",
    "print(list_sum)"
   ]
  },
  {
   "cell_type": "code",
   "execution_count": 103,
   "metadata": {},
   "outputs": [
    {
     "name": "stdout",
     "output_type": "stream",
     "text": [
      "0 1 9 8\n"
     ]
    }
   ],
   "source": [
    "# x = range(10)  # [0, 1, ..., 9] 형태의 list\n",
    "x = [0,1,2,3,4,5,6,7,8,9]\n",
    "zero = x[0]\n",
    "one = x[1]\n",
    "nine = x[-1]\n",
    "eight = x[-2]\n",
    "\n",
    "print(zero, one, nine, eight)"
   ]
  },
  {
   "cell_type": "code",
   "execution_count": 104,
   "metadata": {},
   "outputs": [
    {
     "data": {
      "text/plain": [
       "-1"
      ]
     },
     "execution_count": 104,
     "metadata": {},
     "output_type": "execute_result"
    }
   ],
   "source": [
    "x[0] = -1\n",
    "x[0]"
   ]
  },
  {
   "cell_type": "code",
   "execution_count": 105,
   "metadata": {},
   "outputs": [
    {
     "name": "stdout",
     "output_type": "stream",
     "text": [
      "[-1, 1, 2]\n",
      "[3, 4, 5, 6, 7, 8, 9]\n",
      "[1, 2, 3, 4]\n",
      "[7, 8, 9]\n",
      "[1, 2, 3, 4, 5, 6, 7, 8]\n",
      "[-1, 1, 2, 3, 4, 5, 6, 7, 8, 9]\n"
     ]
    }
   ],
   "source": [
    "first_three = x[:3]\n",
    "three_to_end = x[3:]\n",
    "one_to_four = x[1:5]\n",
    "last_three = x[-3:]\n",
    "without_first_and_last = x[1:-1]\n",
    "copy_of_x = x[:]\n",
    "\n",
    "print(first_three)\n",
    "print(three_to_end)\n",
    "print(one_to_four)\n",
    "print(last_three)\n",
    "print(without_first_and_last)\n",
    "print(copy_of_x)"
   ]
  },
  {
   "cell_type": "code",
   "execution_count": 106,
   "metadata": {},
   "outputs": [
    {
     "name": "stdout",
     "output_type": "stream",
     "text": [
      "True\n",
      "False\n"
     ]
    }
   ],
   "source": [
    "# in : list 안에서 항목의 존재 여부 확인\n",
    "print(1 in [1,2,3])\n",
    "print(0 in [1,2,3])"
   ]
  },
  {
   "cell_type": "code",
   "execution_count": 107,
   "metadata": {},
   "outputs": [
    {
     "name": "stdout",
     "output_type": "stream",
     "text": [
      "[1, 2, 3, 4, 5, 6]\n"
     ]
    }
   ],
   "source": [
    "# list 연결\n",
    "y = [1,2,3]\n",
    "y.extend([4,5,6])  # y가 변함\n",
    "\n",
    "print(y)"
   ]
  },
  {
   "cell_type": "code",
   "execution_count": 108,
   "metadata": {},
   "outputs": [
    {
     "name": "stdout",
     "output_type": "stream",
     "text": [
      "[1, 2, 3]\n",
      "[1, 2, 3, 4, 5, 6]\n"
     ]
    }
   ],
   "source": [
    "i = [1,2,3]\n",
    "j = i + [4,5,6]  # i가 변하지 않음\n",
    "\n",
    "print(i)\n",
    "print(j)"
   ]
  },
  {
   "cell_type": "code",
   "execution_count": 109,
   "metadata": {},
   "outputs": [
    {
     "name": "stdout",
     "output_type": "stream",
     "text": [
      "[1, 2, 3, 0]\n",
      "0\n",
      "4\n"
     ]
    }
   ],
   "source": [
    "# 주로 list에 항목을 하나씩 추가하는 경우가 많다.\n",
    "x = [1,2,3]\n",
    "x.append(0)\n",
    "print(x)\n",
    "\n",
    "y = x[-1]\n",
    "print(y)\n",
    "\n",
    "z = len(x)\n",
    "print(z)"
   ]
  },
  {
   "cell_type": "code",
   "execution_count": 110,
   "metadata": {},
   "outputs": [
    {
     "name": "stdout",
     "output_type": "stream",
     "text": [
      "1\n",
      "2\n"
     ]
    }
   ],
   "source": [
    "x, y = [1,2]\n",
    "print(x)\n",
    "print(y)"
   ]
  },
  {
   "cell_type": "code",
   "execution_count": 111,
   "metadata": {},
   "outputs": [
    {
     "name": "stdout",
     "output_type": "stream",
     "text": [
      "1\n",
      "2\n"
     ]
    }
   ],
   "source": [
    "_, y = [1,2]  # 보통 버릴 항목은 밑줄로 표시한다.\n",
    "print(_)\n",
    "print(y)"
   ]
  },
  {
   "cell_type": "markdown",
   "metadata": {},
   "source": [
    "list 속성 변경하기"
   ]
  },
  {
   "cell_type": "code",
   "execution_count": 112,
   "metadata": {},
   "outputs": [
    {
     "name": "stdout",
     "output_type": "stream",
     "text": [
      "['lion', 'tiger', 'cat', 'monkey']\n"
     ]
    }
   ],
   "source": [
    "# list 속성 변경('dog' -> 'cat')\n",
    "# 1\n",
    "animals = ['lion', 'tiger', 'dog', 'monkey']\n",
    "\n",
    "for i in range(len(animals)):\n",
    "    if i == 2:\n",
    "        animals[i] = 'cat'\n",
    "        \n",
    "print(animals)"
   ]
  },
  {
   "cell_type": "code",
   "execution_count": 113,
   "metadata": {},
   "outputs": [
    {
     "name": "stdout",
     "output_type": "stream",
     "text": [
      "['lion', 'tiger', 'cat', 'monkey']\n"
     ]
    }
   ],
   "source": [
    "# list 속성 변경('dog' -> 'cat')\n",
    "# 2\n",
    "animals = ['lion', 'tiger', 'dog', 'monkey']\n",
    "\n",
    "for animal in animals:\n",
    "    index = animals.index(animal)\n",
    "    if index == 2:\n",
    "        animals[index] = 'cat'\n",
    "        \n",
    "print(animals)"
   ]
  },
  {
   "cell_type": "code",
   "execution_count": 114,
   "metadata": {},
   "outputs": [
    {
     "name": "stdout",
     "output_type": "stream",
     "text": [
      "['lion', 'tiger', 'cat', 'monkey']\n"
     ]
    }
   ],
   "source": [
    "# list 속성 변경('dog' -> 'cat')\n",
    "# 3\n",
    "animals = ['lion', 'tiger', 'dog', 'monkey']\n",
    "\n",
    "for index, value in enumerate(animals):\n",
    "    if index == 2:\n",
    "        animals[index] = 'cat'\n",
    "        \n",
    "print(animals)"
   ]
  },
  {
   "cell_type": "markdown",
   "metadata": {},
   "source": [
    "### 2.1.9. Tuple( )\n",
    "- 변경할 수 없는 list\n",
    "- list에서 수정을 제외한 모든 기능을 tuple에 적용할 수 있다.\n",
    "- tuple은 대괄호 대신 괄호를 사용해서(혹은 아무런 기호 없이) 정의한다."
   ]
  },
  {
   "cell_type": "code",
   "execution_count": 115,
   "metadata": {},
   "outputs": [
    {
     "name": "stdout",
     "output_type": "stream",
     "text": [
      "[1, 2]\n",
      "(1, 2)\n",
      "(3, 4)\n"
     ]
    }
   ],
   "source": [
    "my_list = [1,2]\n",
    "my_tuple = (1,2)\n",
    "other_tuple = 3,4\n",
    "\n",
    "print(my_list)\n",
    "print(my_tuple)\n",
    "print(other_tuple)"
   ]
  },
  {
   "cell_type": "code",
   "execution_count": 116,
   "metadata": {},
   "outputs": [
    {
     "name": "stdout",
     "output_type": "stream",
     "text": [
      "[1, 3]\n"
     ]
    }
   ],
   "source": [
    "my_list[1] = 3\n",
    "print(my_list)"
   ]
  },
  {
   "cell_type": "code",
   "execution_count": 117,
   "metadata": {},
   "outputs": [
    {
     "name": "stdout",
     "output_type": "stream",
     "text": [
      "cannot modify a tuple!!\n"
     ]
    }
   ],
   "source": [
    "try:\n",
    "    my_tuple[1] = 3\n",
    "except TypeError:\n",
    "    print('cannot modify a tuple!!')"
   ]
  },
  {
   "cell_type": "code",
   "execution_count": 118,
   "metadata": {},
   "outputs": [
    {
     "data": {
      "text/plain": [
       "(5, 6)"
      ]
     },
     "execution_count": 118,
     "metadata": {},
     "output_type": "execute_result"
    }
   ],
   "source": [
    "# 함수에서 여러 값을 반환할 때 tuple을 사용하면 편하다.\n",
    "def sum_and_product(x,y):\n",
    "    return(x+y),(x*y)\n",
    "\n",
    "sp = sum_and_product(2,3)\n",
    "sp"
   ]
  },
  {
   "cell_type": "code",
   "execution_count": 119,
   "metadata": {},
   "outputs": [
    {
     "name": "stdout",
     "output_type": "stream",
     "text": [
      "15 50\n"
     ]
    }
   ],
   "source": [
    "s,p = sum_and_product(5,10)\n",
    "print(s,p)"
   ]
  },
  {
   "cell_type": "code",
   "execution_count": 120,
   "metadata": {},
   "outputs": [
    {
     "name": "stdout",
     "output_type": "stream",
     "text": [
      "1 2\n"
     ]
    }
   ],
   "source": [
    "# tuple과 list는 다중 할당(muliple assignment)을 지원한다.\n",
    "x, y = 1, 2  # x=1, y=2\n",
    "print(x,y)"
   ]
  },
  {
   "cell_type": "code",
   "execution_count": 121,
   "metadata": {},
   "outputs": [
    {
     "name": "stdout",
     "output_type": "stream",
     "text": [
      "2 1\n"
     ]
    }
   ],
   "source": [
    "x, y = y, x  # 가장 파이썬스럽게 변수를 교환; 이제 x=2, y=1\n",
    "print(x,y)"
   ]
  },
  {
   "cell_type": "markdown",
   "metadata": {},
   "source": [
    "### 2.1.10. Dict { key, value }\n",
    "- dict(dictionary, 사전)는 팡썬의 또 다른 기본적인 데이터 구조이다.\n",
    "- 특정 value(값)와 연관된 key를 연결해 주고 이를 사용해 value를 빠르게 검색할 수 있다.\n",
    "- dict의 key는 수정할 수 없으며, list를 key로 사용할 수 없다.\n",
    "- 만약 다양한 값으로 구성된 key가 필요하다면 tuple이나 문자열을 key로 사용하도록 하자.\n",
    "> - get() 메서드 : 입력한 key가 dict에 없어도 에러를 반환하지 않고 기본값을 반환\n",
    "> - items() 메서드 : dict의 모든 key와 value를 반환"
   ]
  },
  {
   "cell_type": "code",
   "execution_count": 122,
   "metadata": {},
   "outputs": [],
   "source": [
    "empty_dict = {}  # 가장 파이썬스럽게 dict를 만드는 방법\n",
    "empty_dict2 = dict()  # 덜 파이썬스럽게 dict를 만드는 방법\n",
    "\n",
    "grades = {'Joel' : 80, 'Tim' : 95}  # dict의 예시"
   ]
  },
  {
   "cell_type": "code",
   "execution_count": 123,
   "metadata": {},
   "outputs": [
    {
     "data": {
      "text/plain": [
       "80"
      ]
     },
     "execution_count": 123,
     "metadata": {},
     "output_type": "execute_result"
    }
   ],
   "source": [
    "# 대괄호[]를 사용해서 key의 value를 불러올 수 있다.\n",
    "joels_grade = grades['Joel']\n",
    "joels_grade"
   ]
  },
  {
   "cell_type": "code",
   "execution_count": 124,
   "metadata": {},
   "outputs": [
    {
     "name": "stdout",
     "output_type": "stream",
     "text": [
      "no grade for Kate\n"
     ]
    }
   ],
   "source": [
    "try:\n",
    "    kates_grade = grades['Kate']\n",
    "except KeyError:\n",
    "    print('no grade for Kate')"
   ]
  },
  {
   "cell_type": "code",
   "execution_count": 125,
   "metadata": {},
   "outputs": [
    {
     "name": "stdout",
     "output_type": "stream",
     "text": [
      "True\n",
      "False\n"
     ]
    }
   ],
   "source": [
    "joel_has_grade = 'Joel' in grades\n",
    "kate_has_grade = 'Kate' in grades\n",
    "\n",
    "print(joel_has_grade)\n",
    "print(kate_has_grade)"
   ]
  },
  {
   "cell_type": "code",
   "execution_count": 126,
   "metadata": {},
   "outputs": [
    {
     "name": "stdout",
     "output_type": "stream",
     "text": [
      "80\n",
      "0\n",
      "None\n"
     ]
    }
   ],
   "source": [
    "# dict에서 get 메서드를 사용하면 입력한 key가 dict에 없어도 에러를 반환하지 않고 기본값을 반환해 준다.\n",
    "joels_grade = grades.get('Joel', 0)\n",
    "kates_grade = grades.get('Kate', 0)\n",
    "no_ones_grade = grades.get('No One')  # 기본값으로 None을 반환\n",
    "\n",
    "print(joels_grade)\n",
    "print(kates_grade)\n",
    "print(no_ones_grade)"
   ]
  },
  {
   "cell_type": "code",
   "execution_count": 127,
   "metadata": {},
   "outputs": [
    {
     "name": "stdout",
     "output_type": "stream",
     "text": [
      "{'Joel': 80, 'Tim': 99, 'Kate': 100}\n",
      "3\n"
     ]
    }
   ],
   "source": [
    "# 대괄호를 사용해서 key와 value를 새로 지정해 줄 수 있다.\n",
    "grades['Tim'] = 99  # value 변경(95 -> 99)\n",
    "grades['Kate'] = 100  # 새로 추가\n",
    "num_students = len(grades)\n",
    "\n",
    "print(grades)\n",
    "print(num_students)"
   ]
  },
  {
   "cell_type": "code",
   "execution_count": 128,
   "metadata": {},
   "outputs": [],
   "source": [
    "# 정형화된 데이터를 간단하게 나타낼 때는 주로 dict가 사용된다.\n",
    "tweet = {\n",
    "    'user' : 'joelgrus',\n",
    "    'text' : 'Data Science is Awesome',\n",
    "    'retweet_count' : 100,\n",
    "    'hashtags' : ['#data', '#science', '#datascience', '#awesome' ,'#yolo']\n",
    "}"
   ]
  },
  {
   "cell_type": "code",
   "execution_count": 129,
   "metadata": {},
   "outputs": [
    {
     "name": "stdout",
     "output_type": "stream",
     "text": [
      "dict_keys(['user', 'text', 'retweet_count', 'hashtags'])\n",
      "dict_values(['joelgrus', 'Data Science is Awesome', 100, ['#data', '#science', '#datascience', '#awesome', '#yolo']])\n",
      "dict_items([('user', 'joelgrus'), ('text', 'Data Science is Awesome'), ('retweet_count', 100), ('hashtags', ['#data', '#science', '#datascience', '#awesome', '#yolo'])])\n"
     ]
    }
   ],
   "source": [
    "tweet_keys = tweet.keys()  # key에 대한 list\n",
    "tweet_values = tweet.values()  # value에 대한 list\n",
    "tweet_items = tweet.items()  # (key, value) tuple에 대한 list\n",
    "\n",
    "print(tweet_keys)\n",
    "print(tweet_values)\n",
    "print(tweet_items)"
   ]
  },
  {
   "cell_type": "code",
   "execution_count": 130,
   "metadata": {},
   "outputs": [
    {
     "name": "stdout",
     "output_type": "stream",
     "text": [
      "True\n",
      "True\n",
      "True\n"
     ]
    }
   ],
   "source": [
    "print('user' in tweet_keys)  # list에서 in을 사용하기 때문에 느림\n",
    "print('user' in tweet)  # 훨씬 파이썬스럽고 dict에서 in을 사용하기 때문에 빠름\n",
    "print('joelgrus' in tweet_values)  # True"
   ]
  },
  {
   "cell_type": "markdown",
   "metadata": {},
   "source": [
    "#### defaultdict\n",
    "- defaultdict와 평범한 dict의 유일한 차이점은 \n",
    "- 만약 존재하지 않는 key가 주어진다면 defaultdict는 이 key와 인자에서 주어진 값으로 dict에 새로운 항목을 추가해 준다는 것이다."
   ]
  },
  {
   "cell_type": "code",
   "execution_count": 131,
   "metadata": {},
   "outputs": [
    {
     "data": {
      "text/plain": [
       "{'apple': 2, 'plum': 2, 'orange': 4, 'peach': 5, 'owatermelon': 1, 'grape': 1}"
      ]
     },
     "execution_count": 131,
     "metadata": {},
     "output_type": "execute_result"
    }
   ],
   "source": [
    "# 문서에서 빈도수 세기\n",
    "# 1 : basic\n",
    "document = ['apple', 'plum', 'apple', 'orange', 'peach', 'peach', 'owatermelon','peach', 'plum', 'grape', \n",
    "            'orange', 'orange','peach', 'peach', 'orange']\n",
    "word_counts = {}\n",
    "\n",
    "for word in document:\n",
    "    if word in word_counts:\n",
    "        word_counts[word] += 1\n",
    "    else:\n",
    "        word_counts[word] = 1 \n",
    "        \n",
    "word_counts"
   ]
  },
  {
   "cell_type": "code",
   "execution_count": 132,
   "metadata": {},
   "outputs": [
    {
     "data": {
      "text/plain": [
       "{'apple': 2, 'plum': 2, 'orange': 4, 'peach': 5, 'owatermelon': 1, 'grape': 1}"
      ]
     },
     "execution_count": 132,
     "metadata": {},
     "output_type": "execute_result"
    }
   ],
   "source": [
    "# 2 : except\n",
    "word_counts = {}\n",
    "for word in document:\n",
    "    try:\n",
    "        word_counts[word] += 1\n",
    "    except KeyError:\n",
    "        word_counts[word] = 1\n",
    "\n",
    "word_counts"
   ]
  },
  {
   "cell_type": "code",
   "execution_count": 133,
   "metadata": {},
   "outputs": [
    {
     "data": {
      "text/plain": [
       "{'apple': 2, 'plum': 2, 'orange': 4, 'peach': 5, 'owatermelon': 1, 'grape': 1}"
      ]
     },
     "execution_count": 133,
     "metadata": {},
     "output_type": "execute_result"
    }
   ],
   "source": [
    "# 3 : get \n",
    "word_counts = {}\n",
    "for word in document:\n",
    "    previous_count = word_counts.get(word, 0)\n",
    "    word_counts[word] = previous_count + 1\n",
    "\n",
    "word_counts"
   ]
  },
  {
   "cell_type": "code",
   "execution_count": 134,
   "metadata": {},
   "outputs": [
    {
     "data": {
      "text/plain": [
       "defaultdict(int,\n",
       "            {'apple': 2,\n",
       "             'plum': 2,\n",
       "             'orange': 4,\n",
       "             'peach': 5,\n",
       "             'owatermelon': 1,\n",
       "             'grape': 1})"
      ]
     },
     "execution_count": 134,
     "metadata": {},
     "output_type": "execute_result"
    }
   ],
   "source": [
    "# 4 : defaultdict\n",
    "from collections import defaultdict\n",
    "\n",
    "word_counts = defaultdict(int)  # int()는 0을 생성\n",
    "for word in document:\n",
    "    word_counts[word] += 1\n",
    "    \n",
    "word_counts"
   ]
  },
  {
   "cell_type": "code",
   "execution_count": 135,
   "metadata": {},
   "outputs": [
    {
     "data": {
      "text/plain": [
       "defaultdict(<function __main__.<lambda>()>, {2: [0, 1]})"
      ]
     },
     "execution_count": 135,
     "metadata": {},
     "output_type": "execute_result"
    }
   ],
   "source": [
    "# list, dict 혹은 직접 만든 함수를 인자에 넣어줄 수 있다.\n",
    "dd_list = defaultdict(list)  # list()는 빈 list를 생성 \n",
    "dd_list  # defaultdict(list, {})\n",
    "\n",
    "dd_list[2].append(1)  # 이제 dd_list는 {2: [1]}을 포함\n",
    "dd_list  # defaultdict(list, {2: [1]})\n",
    "\n",
    "dd_dict = defaultdict(dict)  # dict()는 빈 dict를 생성\n",
    "dd_dict  # defaultdict(dict, {})\n",
    "\n",
    "dd_dict['Joel']['City'] = 'Seattle'\n",
    "dd_dict  # defaultdict(dict, {'Joel': {'City': 'Seattle'}})\n",
    "\n",
    "dd_pair = defaultdict(lambda: [0,0])\n",
    "dd_pair  # efaultdict(<function __main__.<lambda>()>, {})\n",
    "\n",
    "dd_pair[2][1] = 1  # 이제 dd_pair는 {2: [0, 1]}을 포함\n",
    "dd_pair  # defaultdict(<function __main__.<lambda>()>, {2: [0, 1]})"
   ]
  },
  {
   "cell_type": "markdown",
   "metadata": {},
   "source": [
    "#### Counter\n",
    "- Counter는 연속된 값을 defaultdict(int)와 유사한 객체로 변환해 주며, key와 value의 빈도를 연결시켜 준다.\n",
    "- 앞으로 히스토그램을 그리 ㄹ때 자주 사용할 것이다."
   ]
  },
  {
   "cell_type": "code",
   "execution_count": 136,
   "metadata": {},
   "outputs": [
    {
     "data": {
      "text/plain": [
       "Counter({0: 3, 1: 3, 2: 1, 3: 1})"
      ]
     },
     "execution_count": 136,
     "metadata": {},
     "output_type": "execute_result"
    }
   ],
   "source": [
    "from collections import Counter\n",
    "c = Counter([0,1,2,0,1,3,1,0])  # {0: 3, 1: 3, 2: 1, 3: 1}\n",
    "c"
   ]
  },
  {
   "cell_type": "code",
   "execution_count": 137,
   "metadata": {},
   "outputs": [
    {
     "data": {
      "text/plain": [
       "Counter({'apple': 2,\n",
       "         'plum': 2,\n",
       "         'orange': 4,\n",
       "         'peach': 5,\n",
       "         'owatermelon': 1,\n",
       "         'grape': 1})"
      ]
     },
     "execution_count": 137,
     "metadata": {},
     "output_type": "execute_result"
    }
   ],
   "source": [
    "# 특정 문서에서 단어의 개수를 셀 때도 유용하다.\n",
    "word_counts = Counter(document)\n",
    "word_counts"
   ]
  },
  {
   "cell_type": "code",
   "execution_count": 138,
   "metadata": {},
   "outputs": [
    {
     "name": "stdout",
     "output_type": "stream",
     "text": [
      "peach 5\n",
      "orange 4\n",
      "apple 2\n",
      "plum 2\n",
      "owatermelon 1\n",
      "grape 1\n"
     ]
    }
   ],
   "source": [
    "# Counter 객체에는 굉장히 유용하게 쓰이는 most_common 함수가 있다.\n",
    "# 가장 자주 나오는 단어 10개와 이 단어들의 빈도수를 출력\n",
    "for word, count in word_counts.most_common(10):\n",
    "    print(word, count)"
   ]
  },
  {
   "cell_type": "code",
   "execution_count": 139,
   "metadata": {},
   "outputs": [
    {
     "ename": "AttributeError",
     "evalue": "'list' object has no attribute 'most_common'",
     "output_type": "error",
     "traceback": [
      "\u001b[0;31m---------------------------------------------------------------------------\u001b[0m",
      "\u001b[0;31mAttributeError\u001b[0m                            Traceback (most recent call last)",
      "\u001b[0;32m<ipython-input-139-8c6cc2470979>\u001b[0m in \u001b[0;36m<module>\u001b[0;34m\u001b[0m\n\u001b[1;32m      1\u001b[0m \u001b[0;31m# 'list' object has no attribute 'most_common'\u001b[0m\u001b[0;34m\u001b[0m\u001b[0;34m\u001b[0m\u001b[0;34m\u001b[0m\u001b[0m\n\u001b[0;32m----> 2\u001b[0;31m \u001b[0;32mfor\u001b[0m \u001b[0mword\u001b[0m\u001b[0;34m,\u001b[0m \u001b[0mcount\u001b[0m \u001b[0;32min\u001b[0m \u001b[0mdocument\u001b[0m\u001b[0;34m.\u001b[0m\u001b[0mmost_common\u001b[0m\u001b[0;34m(\u001b[0m\u001b[0;36m10\u001b[0m\u001b[0;34m)\u001b[0m\u001b[0;34m:\u001b[0m\u001b[0;34m\u001b[0m\u001b[0;34m\u001b[0m\u001b[0m\n\u001b[0m\u001b[1;32m      3\u001b[0m     \u001b[0mprint\u001b[0m\u001b[0;34m(\u001b[0m\u001b[0mword\u001b[0m\u001b[0;34m,\u001b[0m \u001b[0mcount\u001b[0m\u001b[0;34m)\u001b[0m\u001b[0;34m\u001b[0m\u001b[0;34m\u001b[0m\u001b[0m\n",
      "\u001b[0;31mAttributeError\u001b[0m: 'list' object has no attribute 'most_common'"
     ]
    }
   ],
   "source": [
    "# 'list' object has no attribute 'most_common'\n",
    "for word, count in document.most_common(10):\n",
    "    print(word, count)"
   ]
  },
  {
   "cell_type": "code",
   "execution_count": 140,
   "metadata": {},
   "outputs": [
    {
     "data": {
      "text/plain": [
       "collections.Counter"
      ]
     },
     "execution_count": 140,
     "metadata": {},
     "output_type": "execute_result"
    }
   ],
   "source": [
    "type(word_counts)"
   ]
  },
  {
   "cell_type": "markdown",
   "metadata": {},
   "source": [
    "### 2.1.11. Set( )\n",
    "- set은 파이썬의 데이터 구조 중 유일한 항목의 집합을 나타내는 구조이다.\n",
    "- in은 set에서 굉장히 빠르게 작동한다.\n",
    "- 중복된 원소를 제거해 준다."
   ]
  },
  {
   "cell_type": "code",
   "execution_count": 141,
   "metadata": {},
   "outputs": [
    {
     "name": "stdout",
     "output_type": "stream",
     "text": [
      "True False\n"
     ]
    }
   ],
   "source": [
    "s = set()  # set()\n",
    "s.add(1)  # {1}\n",
    "s.add(2)  # {1, 2}\n",
    "s.add(2)  # 아직도 {1, 2}\n",
    "\n",
    "x = len(s)  # 2\n",
    "y = 2 in s  # True\n",
    "z = 3 in s  # False\n",
    "print(y, z)"
   ]
  },
  {
   "cell_type": "code",
   "execution_count": 142,
   "metadata": {},
   "outputs": [
    {
     "name": "stdout",
     "output_type": "stream",
     "text": [
      "['a', 'an', 'at', 'apple', 'plum', 'apple', 'orange', 'peach', 'peach', 'owatermelon', 'peach', 'plum', 'grape', 'orange', 'orange', 'peach', 'peach', 'orange', 'yet', 'you']\n",
      "False\n"
     ]
    }
   ],
   "source": [
    "hundreds_of_other_words = ['apple', 'plum', 'apple', 'orange', 'peach', 'peach', 'owatermelon','peach', 'plum', 'grape', \n",
    "            'orange', 'orange','peach', 'peach', 'orange']\n",
    "stopwords_list = ['a', 'an', 'at'] + hundreds_of_other_words + ['yet', 'you']\n",
    "\n",
    "print(stopwords_list)  # 중복된 모든 단어가 출력\n",
    "print('zip' in stopwords_list)  # False, 하지만 모든 항목을 확인해야 함"
   ]
  },
  {
   "cell_type": "code",
   "execution_count": 143,
   "metadata": {},
   "outputs": [
    {
     "name": "stdout",
     "output_type": "stream",
     "text": [
      "{'plum', 'owatermelon', 'yet', 'you', 'a', 'peach', 'orange', 'grape', 'an', 'at', 'apple'}\n",
      "False\n"
     ]
    }
   ],
   "source": [
    "stopwords_set = set(stopwords_list)\n",
    "print(stopwords_set)  # 중복이 제거된 단어가 출력\n",
    "print('zip' in stopwords_set)  # Flase, 굉장히 빠르게 확인 가능"
   ]
  },
  {
   "cell_type": "code",
   "execution_count": 144,
   "metadata": {},
   "outputs": [
    {
     "name": "stdout",
     "output_type": "stream",
     "text": [
      "[1, 2, 3, 1, 2, 3]\n",
      "6\n",
      "{1, 2, 3}\n",
      "3\n",
      "[1, 2, 3]\n"
     ]
    }
   ],
   "source": [
    "item_list = [1,2,3,1,2,3]\n",
    "print(item_list)  # [1, 2, 3, 1, 2, 3]\n",
    "\n",
    "num_items = len(item_list)\n",
    "print(num_items)  # 6\n",
    "\n",
    "item_set = set(item_list)\n",
    "print(item_set)  # {1, 2, 3}\n",
    "\n",
    "num_distinct_items = len(item_set)\n",
    "print(num_distinct_items)  # #\n",
    "\n",
    "distinct_item_list = list(item_set)\n",
    "print(distinct_item_list)  # [1, 2, 3]"
   ]
  },
  {
   "cell_type": "markdown",
   "metadata": {},
   "source": [
    "### 2.1.12. 흐름 제어"
   ]
  },
  {
   "cell_type": "code",
   "execution_count": 145,
   "metadata": {},
   "outputs": [],
   "source": [
    "# if를 사용하여 조건에 따라 코드를 제어할 수 있다.\n",
    "if 1 > 2:\n",
    "    message = 'if only 1 were greater that two...'\n",
    "elif 1 > 3:\n",
    "    message = 'elif stands for \"else if\"'\n",
    "else:\n",
    "    message = 'when all else fails use else (if you want to)'"
   ]
  },
  {
   "cell_type": "code",
   "execution_count": 146,
   "metadata": {},
   "outputs": [
    {
     "data": {
      "text/plain": [
       "'even'"
      ]
     },
     "execution_count": 146,
     "metadata": {},
     "output_type": "execute_result"
    }
   ],
   "source": [
    "parity = 'even' if x % 2 == 0 else 'odd'\n",
    "parity"
   ]
  },
  {
   "cell_type": "code",
   "execution_count": 147,
   "metadata": {},
   "outputs": [
    {
     "name": "stdout",
     "output_type": "stream",
     "text": [
      "0 is less than 10\n",
      "1 is less than 10\n",
      "2 is less than 10\n",
      "3 is less than 10\n",
      "4 is less than 10\n",
      "5 is less than 10\n",
      "6 is less than 10\n",
      "7 is less than 10\n",
      "8 is less than 10\n",
      "9 is less than 10\n"
     ]
    }
   ],
   "source": [
    "# 파이썬에도 while이 존재하지만,\n",
    "x = 0\n",
    "while x < 10:\n",
    "    print(x, 'is less than 10')\n",
    "    x += 1"
   ]
  },
  {
   "cell_type": "code",
   "execution_count": 148,
   "metadata": {},
   "outputs": [
    {
     "name": "stdout",
     "output_type": "stream",
     "text": [
      "0 in less than 10\n",
      "1 in less than 10\n",
      "2 in less than 10\n",
      "3 in less than 10\n",
      "4 in less than 10\n",
      "5 in less than 10\n",
      "6 in less than 10\n",
      "7 in less than 10\n",
      "8 in less than 10\n",
      "9 in less than 10\n"
     ]
    }
   ],
   "source": [
    "# 아래와 같이 for와 in을 더 자주 사용할 것이다.\n",
    "for x in range(10):\n",
    "    print(x, 'in less than 10')"
   ]
  },
  {
   "cell_type": "code",
   "execution_count": 149,
   "metadata": {},
   "outputs": [
    {
     "name": "stdout",
     "output_type": "stream",
     "text": [
      "0\n",
      "1\n",
      "2\n",
      "4\n"
     ]
    }
   ],
   "source": [
    "# 만약 더 복잡한 논리 체계가 필요하다면 continue와 break를 사용할 수 있다.\n",
    "for x in range(10):\n",
    "    if x == 3:\n",
    "        continue  # 바로 다음 번으로 반복\n",
    "    if x == 5:\n",
    "        break  # 반복문 자체를 종료\n",
    "    print(x)  # 0, 1, 2, 4"
   ]
  },
  {
   "cell_type": "markdown",
   "metadata": {},
   "source": [
    "### 2.1.13. Ture와 False\n",
    "- 파이썬에도 불리언(boolean)이 존재하는데, 이들은 항상 대문자로 시작한다.\n",
    "- 파이썬은 불리언 대신 다른 값으로 불리언을 표현할 수 있게 해준다.(다음은 모두 거짓)\n",
    "> False <br>\n",
    "> None <br>\n",
    "> [  ] (빈 list) <br>\n",
    "> { } (빈 dict) <br>\n",
    "> \" \" <br>\n",
    "> set( ) <br>\n",
    "> 0 <br>\n",
    "> 0.0"
   ]
  },
  {
   "cell_type": "code",
   "execution_count": 150,
   "metadata": {},
   "outputs": [
    {
     "name": "stdout",
     "output_type": "stream",
     "text": [
      "True\n",
      "False\n"
     ]
    }
   ],
   "source": [
    "one_is_less_than_two = 1 < 2\n",
    "print(one_is_less_than_two)  # True\n",
    "\n",
    "true_equals_false = True == False\n",
    "print(true_equals_false)  # False"
   ]
  },
  {
   "cell_type": "code",
   "execution_count": 151,
   "metadata": {},
   "outputs": [
    {
     "name": "stdout",
     "output_type": "stream",
     "text": [
      "True\n",
      "True\n"
     ]
    }
   ],
   "source": [
    "x = None\n",
    "print(x == None)  # True가 출력, 하지만 파이썬스럽지 않다.\n",
    "print(x is None)  # True가 출력, 이제 파이썬스럽다."
   ]
  },
  {
   "cell_type": "code",
   "execution_count": 152,
   "metadata": {},
   "outputs": [
    {
     "name": "stdout",
     "output_type": "stream",
     "text": [
      "s\n"
     ]
    }
   ],
   "source": [
    "s = 'some function that returns a string'\n",
    "if s:\n",
    "    first_char = s[0]\n",
    "else:\n",
    "    first_char = ''\n",
    "\n",
    "print(first_char)"
   ]
  },
  {
   "cell_type": "code",
   "execution_count": 153,
   "metadata": {},
   "outputs": [
    {
     "name": "stdout",
     "output_type": "stream",
     "text": [
      "s\n",
      "0\n"
     ]
    }
   ],
   "source": [
    "# 위 코드는 아래와 같이 간단하게 표현 가능하다.\n",
    "# and는 첫 번째 값이 참이면 두 번째 값을 반환해주고, 첫 번째 값이 거짓이면 첫 번째 값을 반환해 준다.\n",
    "first_char = s and s[0]\n",
    "print(first_char)\n",
    "\n",
    "# 만약 x가 숫자거나 None이라면 safe_x는 항상 숫자일 것이다.\n",
    "safe_x = x or 0\n",
    "print(safe_x)"
   ]
  },
  {
   "cell_type": "code",
   "execution_count": 154,
   "metadata": {},
   "outputs": [
    {
     "data": {
      "text/plain": [
       "False"
      ]
     },
     "execution_count": 154,
     "metadata": {},
     "output_type": "execute_result"
    }
   ],
   "source": [
    "# all 함수 : list의 모든 항목이 참이라면 True를 반환\n",
    "# any 함수 : 적어도 하나의 항목이 참이라면 True를 반환\n",
    "all([True, 1, {3}])  # True\n",
    "all([True, 1, {}])  # False\n",
    "any([True, 1, {}])  # True\n",
    "all([])  # True, 거짓인 항목이 없기 때문에\n",
    "any([])  # False, 참인 항목이 없기 때문에 "
   ]
  },
  {
   "cell_type": "code",
   "execution_count": null,
   "metadata": {},
   "outputs": [],
   "source": []
  },
  {
   "cell_type": "markdown",
   "metadata": {},
   "source": [
    "## 2.2. 기본기에서 한 걸을 나아가기"
   ]
  },
  {
   "cell_type": "markdown",
   "metadata": {},
   "source": [
    "### 2.2.1. 정렬\n",
    "- list를 자동으로 정렬해주는 sort 메서드가 있다.\n",
    "- 이미 만든 list를 망치고 싶지 않다면 sorted 함수를 사용해서 새롭게 정렬된 list를 생성할 수 있다.\n",
    "> sorted 함수 : sorted(x) -> 원래 값이 변하지 않음 <br>\n",
    "> sort 메서드 : x.sort() -> 원래 값이 변함\n",
    "- reverse = True : 내림차순 정렬"
   ]
  },
  {
   "cell_type": "code",
   "execution_count": 156,
   "metadata": {},
   "outputs": [
    {
     "name": "stdout",
     "output_type": "stream",
     "text": [
      "[1, 2, 3, 4]\n",
      "[4, 1, 3, 2]\n",
      "[1, 2, 3, 4]\n"
     ]
    }
   ],
   "source": [
    "x = [4,1,3,2]\n",
    "y = sorted(x)  # sorted 함수 \n",
    "print(y)  # [1, 2, 3, 4], 하지만 x는 변하지 않음\n",
    "print(x)  # [4, 1, 3, 2]\n",
    "\n",
    "x.sort()  # sort 메서드\n",
    "print(x)  # 이제 x는 [1, 2, 3, 4]로 바뀜"
   ]
  },
  {
   "cell_type": "code",
   "execution_count": 157,
   "metadata": {},
   "outputs": [
    {
     "name": "stdout",
     "output_type": "stream",
     "text": [
      "[-4, 3, -2, 1]\n"
     ]
    }
   ],
   "source": [
    "# list의 각 항목끼리 서로 비교하는 대신 key를 사용하면 지정한 함수의 결과값을 기준으로 list를 정렬할 수 있다.\n",
    "# 절댓값의 내림차순으로 list를 정렬\n",
    "x = sorted([-4, 1, -2, 3], key=abs, reverse=True)\n",
    "print(x)  # [-4, 3, -2, 1]"
   ]
  },
  {
   "cell_type": "code",
   "execution_count": 174,
   "metadata": {},
   "outputs": [
    {
     "ename": "SyntaxError",
     "evalue": "invalid syntax (<ipython-input-174-d1e1ce3cd3c2>, line 2)",
     "output_type": "error",
     "traceback": [
      "\u001b[0;36m  File \u001b[0;32m\"<ipython-input-174-d1e1ce3cd3c2>\"\u001b[0;36m, line \u001b[0;32m2\u001b[0m\n\u001b[0;31m    wc = sorted(word_counts.items(), key=lambda(word, count):count, reverse=True)\u001b[0m\n\u001b[0m                                               ^\u001b[0m\n\u001b[0;31mSyntaxError\u001b[0m\u001b[0;31m:\u001b[0m invalid syntax\n"
     ]
    }
   ],
   "source": [
    "# 빈도의 내림차순으로 단어와 빈도를 정리\n",
    "wc = sorted(word_counts.items(), key=lambda(word, count):count, reverse=True)"
   ]
  },
  {
   "cell_type": "markdown",
   "metadata": {},
   "source": [
    "### 2.2.2. List Comprehension\n",
    "- 기존의 list에서 특정 항목을 선택하거나 변환시킨 결과를 새로운 list에 저장해야 하는 경우\n",
    "- for 반복문을 보다 간결히 사용할 수 있는 방법을 제공한다.\n",
    "- [출력표현식 for 요소 in 입력Sequence if 조건식]"
   ]
  },
  {
   "cell_type": "code",
   "execution_count": 183,
   "metadata": {},
   "outputs": [],
   "source": [
    "even_numbers = [x for x in range(5) if x % 2 == 0]  # [0, 2, 4]\n",
    "squares = [x*x for x in range(5)]  # [0, 1, 4, 9, 16]\n",
    "even_squares = [x*x for x in even_numbers]  # [0, 4, 16]"
   ]
  },
  {
   "cell_type": "code",
   "execution_count": 188,
   "metadata": {},
   "outputs": [],
   "source": [
    "# 또한 dict나 set으로 변환시킬 수 있다.\n",
    "square_dict = {x : x*x for x in range(5)}  # {0: 0, 1: 1, 2: 4, 3: 9, 4: 16}\n",
    "square_set = {x*x for x in [1, -1]}  # {1}"
   ]
  },
  {
   "cell_type": "code",
   "execution_count": 190,
   "metadata": {},
   "outputs": [
    {
     "data": {
      "text/plain": [
       "[0, 0, 0]"
      ]
     },
     "execution_count": 190,
     "metadata": {},
     "output_type": "execute_result"
    }
   ],
   "source": [
    "# 보통 list에서 불필요한 값은 밑줄로 표기한다.\n",
    "zeroes = [0 for _ in even_numbers]  # even_numbers와 동일한 길이"
   ]
  },
  {
   "cell_type": "code",
   "execution_count": 192,
   "metadata": {},
   "outputs": [
    {
     "name": "stdout",
     "output_type": "stream",
     "text": [
      "[(0, 0), (0, 1), (0, 2), (0, 3), (0, 4), (0, 5), (0, 6), (0, 7), (0, 8), (0, 9), (1, 0), (1, 1), (1, 2), (1, 3), (1, 4), (1, 5), (1, 6), (1, 7), (1, 8), (1, 9), (2, 0), (2, 1), (2, 2), (2, 3), (2, 4), (2, 5), (2, 6), (2, 7), (2, 8), (2, 9), (3, 0), (3, 1), (3, 2), (3, 3), (3, 4), (3, 5), (3, 6), (3, 7), (3, 8), (3, 9), (4, 0), (4, 1), (4, 2), (4, 3), (4, 4), (4, 5), (4, 6), (4, 7), (4, 8), (4, 9), (5, 0), (5, 1), (5, 2), (5, 3), (5, 4), (5, 5), (5, 6), (5, 7), (5, 8), (5, 9), (6, 0), (6, 1), (6, 2), (6, 3), (6, 4), (6, 5), (6, 6), (6, 7), (6, 8), (6, 9), (7, 0), (7, 1), (7, 2), (7, 3), (7, 4), (7, 5), (7, 6), (7, 7), (7, 8), (7, 9), (8, 0), (8, 1), (8, 2), (8, 3), (8, 4), (8, 5), (8, 6), (8, 7), (8, 8), (8, 9), (9, 0), (9, 1), (9, 2), (9, 3), (9, 4), (9, 5), (9, 6), (9, 7), (9, 8), (9, 9)]\n"
     ]
    }
   ],
   "source": [
    "# List Comprehension에는 여러 for를 포함할 수 있고\n",
    "# 뒤에 나오는 for는 앞에 나온 결과에 대해 반복한다.\n",
    "pairs = [(x,y) \n",
    "         for x in range(10) \n",
    "         for y in range(10)]\n",
    "print(pairs)"
   ]
  },
  {
   "cell_type": "code",
   "execution_count": 196,
   "metadata": {},
   "outputs": [
    {
     "name": "stdout",
     "output_type": "stream",
     "text": [
      "[(0, 1), (0, 2), (0, 3), (0, 4), (0, 5), (0, 6), (0, 7), (0, 8), (0, 9), (1, 2), (1, 3), (1, 4), (1, 5), (1, 6), (1, 7), (1, 8), (1, 9), (2, 3), (2, 4), (2, 5), (2, 6), (2, 7), (2, 8), (2, 9), (3, 4), (3, 5), (3, 6), (3, 7), (3, 8), (3, 9), (4, 5), (4, 6), (4, 7), (4, 8), (4, 9), (5, 6), (5, 7), (5, 8), (5, 9), (6, 7), (6, 8), (6, 9), (7, 8), (7, 9), (8, 9)]\n"
     ]
    }
   ],
   "source": [
    "increasing_pairs = [(x,y)  # x < y인 경우만 해당\n",
    "                   for x in range(10)  # range(lo, hi)는\n",
    "                   for y in range(x+1, 10)]  # [lo, lo+1, ..., hi-1]을 의미함\n",
    "print(increasing_pairs)"
   ]
  },
  {
   "cell_type": "markdown",
   "metadata": {},
   "source": [
    "### 2.2.3. Generator와 Iterator\n",
    "- Generator(생성자)는 (주로 for문을 통해서) 반복할 수 있으며, Generator의 각 항목은 필요한 순간에 그때그때 생성된다.\n",
    "- 파이썬 3에서는 range 자체가 generator로 만들어졌다. 이는 무한한 수열도 메모리의 제약을 받지 않고 구현살 수 있다는 것을 의미한다.\n",
    "- Generator의 단점은 generator를 단 한 번만 반복할 수 있다는 점이다. 만약 데이터를 여러 번 반목해야 한다면 매번 generagor를 다시 만들거나 list를 사용해야 한다.\n",
    "> - iteritems() 메서드 : 각각의 key와 value를 한 번씩만 살펴볼 수 있음"
   ]
  },
  {
   "cell_type": "code",
   "execution_count": 207,
   "metadata": {},
   "outputs": [],
   "source": [
    "# Generator를 만드는 한 가지 방법은 함수와 yield를 활용하는 것이다.\n",
    "def lazy_range(n):\n",
    "    '''range와 똑같은 기능을 하는 generator'''\n",
    "    i = 0\n",
    "    while i < n:\n",
    "        yield i\n",
    "        i += 1"
   ]
  },
  {
   "cell_type": "code",
   "execution_count": 204,
   "metadata": {},
   "outputs": [
    {
     "name": "stdout",
     "output_type": "stream",
     "text": [
      "0\n",
      "1\n",
      "2\n",
      "3\n",
      "4\n",
      "5\n",
      "6\n",
      "7\n",
      "8\n",
      "9\n"
     ]
    }
   ],
   "source": [
    "for i in lazy_range(10):\n",
    "    print(i)"
   ]
  },
  {
   "cell_type": "code",
   "execution_count": 206,
   "metadata": {},
   "outputs": [],
   "source": [
    "def natural_numbers():\n",
    "    '''1, 2, 3, ...을 반환'''\n",
    "    n = 1\n",
    "    while True:\n",
    "        yield n\n",
    "        n += 1\n",
    "# 물론 breake없이 무한 수열을 생성하는 것은 추천하지 않는다."
   ]
  },
  {
   "cell_type": "code",
   "execution_count": 208,
   "metadata": {},
   "outputs": [
    {
     "data": {
      "text/plain": [
       "<generator object <genexpr> at 0x113deade0>"
      ]
     },
     "execution_count": 208,
     "metadata": {},
     "output_type": "execute_result"
    }
   ],
   "source": [
    "# 또한 괄호 안에 for문을 추가하는 방법으로도 generator를 만들 수 있다. \n",
    "lazy_evens_below_20 = (i for i in lazy_range(20) if i % 2 == 0)\n",
    "lazy_evens_below_20"
   ]
  },
  {
   "cell_type": "markdown",
   "metadata": {},
   "source": [
    "### 2.2.4. 난수 생성"
   ]
  },
  {
   "cell_type": "code",
   "execution_count": 210,
   "metadata": {},
   "outputs": [
    {
     "data": {
      "text/plain": [
       "[0.07212921279143347,\n",
       " 0.06698226739849455,\n",
       " 0.3565810755201473,\n",
       " 0.6655373938734457]"
      ]
     },
     "execution_count": 210,
     "metadata": {},
     "output_type": "execute_result"
    }
   ],
   "source": [
    "# random.random()은 0과 1 사이의 난수를 생성\n",
    "# 앞으로 가장 자주 사용할 함수이다.\n",
    "import random \n",
    "four_uniform_randoms = [random.random() for _ in range(4)]\n",
    "\n",
    "four_uniform_randoms"
   ]
  },
  {
   "cell_type": "code",
   "execution_count": 212,
   "metadata": {},
   "outputs": [
    {
     "name": "stdout",
     "output_type": "stream",
     "text": [
      "0.5714025946899135\n",
      "0.5714025946899135\n"
     ]
    }
   ],
   "source": [
    "random.seed(10)  # seed를 10으로 설정\n",
    "print(random.random())  # 0.5714025946899135\n",
    "random.seed(10)  # seed를 10으로 다시 설정해도\n",
    "print(random.random())  # 0.5714025946899135 같은 값 출력됨"
   ]
  },
  {
   "cell_type": "code",
   "execution_count": 231,
   "metadata": {},
   "outputs": [
    {
     "name": "stdout",
     "output_type": "stream",
     "text": [
      "0.7258526014465152\n",
      "0.22169166627303505\n"
     ]
    }
   ],
   "source": [
    "random.randrange(10)  # range(10) = [0,1,...,9]에서 난수 생성\n",
    "print(random.random())\n",
    "\n",
    "random.randrange(3,6)  # rnage(3,6) = [3,4,5]에서 난수 생성\n",
    "print(random.random())"
   ]
  },
  {
   "cell_type": "code",
   "execution_count": 234,
   "metadata": {},
   "outputs": [
    {
     "ename": "TypeError",
     "evalue": "'range' object does not support item assignment",
     "output_type": "error",
     "traceback": [
      "\u001b[0;31m---------------------------------------------------------------------------\u001b[0m",
      "\u001b[0;31mTypeError\u001b[0m                                 Traceback (most recent call last)",
      "\u001b[0;32m<ipython-input-234-1de85f8fe66e>\u001b[0m in \u001b[0;36m<module>\u001b[0;34m\u001b[0m\n\u001b[1;32m      1\u001b[0m \u001b[0mup_to_ten\u001b[0m \u001b[0;34m=\u001b[0m \u001b[0mrange\u001b[0m\u001b[0;34m(\u001b[0m\u001b[0;36m10\u001b[0m\u001b[0;34m)\u001b[0m\u001b[0;34m\u001b[0m\u001b[0;34m\u001b[0m\u001b[0m\n\u001b[0;32m----> 2\u001b[0;31m \u001b[0mrandom\u001b[0m\u001b[0;34m.\u001b[0m\u001b[0mshuffle\u001b[0m\u001b[0;34m(\u001b[0m\u001b[0mup_to_ten\u001b[0m\u001b[0;34m)\u001b[0m\u001b[0;34m\u001b[0m\u001b[0;34m\u001b[0m\u001b[0m\n\u001b[0m\u001b[1;32m      3\u001b[0m \u001b[0mprint\u001b[0m\u001b[0;34m(\u001b[0m\u001b[0mup_to_ten\u001b[0m\u001b[0;34m)\u001b[0m\u001b[0;34m\u001b[0m\u001b[0;34m\u001b[0m\u001b[0m\n",
      "\u001b[0;32m~/anaconda3/lib/python3.7/random.py\u001b[0m in \u001b[0;36mshuffle\u001b[0;34m(self, x, random)\u001b[0m\n\u001b[1;32m    276\u001b[0m                 \u001b[0;31m# pick an element in x[:i+1] with which to exchange x[i]\u001b[0m\u001b[0;34m\u001b[0m\u001b[0;34m\u001b[0m\u001b[0;34m\u001b[0m\u001b[0m\n\u001b[1;32m    277\u001b[0m                 \u001b[0mj\u001b[0m \u001b[0;34m=\u001b[0m \u001b[0mrandbelow\u001b[0m\u001b[0;34m(\u001b[0m\u001b[0mi\u001b[0m\u001b[0;34m+\u001b[0m\u001b[0;36m1\u001b[0m\u001b[0;34m)\u001b[0m\u001b[0;34m\u001b[0m\u001b[0;34m\u001b[0m\u001b[0m\n\u001b[0;32m--> 278\u001b[0;31m                 \u001b[0mx\u001b[0m\u001b[0;34m[\u001b[0m\u001b[0mi\u001b[0m\u001b[0;34m]\u001b[0m\u001b[0;34m,\u001b[0m \u001b[0mx\u001b[0m\u001b[0;34m[\u001b[0m\u001b[0mj\u001b[0m\u001b[0;34m]\u001b[0m \u001b[0;34m=\u001b[0m \u001b[0mx\u001b[0m\u001b[0;34m[\u001b[0m\u001b[0mj\u001b[0m\u001b[0;34m]\u001b[0m\u001b[0;34m,\u001b[0m \u001b[0mx\u001b[0m\u001b[0;34m[\u001b[0m\u001b[0mi\u001b[0m\u001b[0;34m]\u001b[0m\u001b[0;34m\u001b[0m\u001b[0;34m\u001b[0m\u001b[0m\n\u001b[0m\u001b[1;32m    279\u001b[0m         \u001b[0;32melse\u001b[0m\u001b[0;34m:\u001b[0m\u001b[0;34m\u001b[0m\u001b[0;34m\u001b[0m\u001b[0m\n\u001b[1;32m    280\u001b[0m             \u001b[0m_int\u001b[0m \u001b[0;34m=\u001b[0m \u001b[0mint\u001b[0m\u001b[0;34m\u001b[0m\u001b[0;34m\u001b[0m\u001b[0m\n",
      "\u001b[0;31mTypeError\u001b[0m: 'range' object does not support item assignment"
     ]
    }
   ],
   "source": [
    "up_to_ten = range(10)\n",
    "random.shuffle(up_to_ten)\n",
    "print(up_to_ten)"
   ]
  },
  {
   "cell_type": "code",
   "execution_count": 235,
   "metadata": {},
   "outputs": [
    {
     "data": {
      "text/plain": [
       "'Alice'"
      ]
     },
     "execution_count": 235,
     "metadata": {},
     "output_type": "execute_result"
    }
   ],
   "source": [
    "# random.choice 메서드를 사용하면 list에서 임의의 항목을 하나 선택할 수 있다.\n",
    "my_best_friend = random.choice(['Alice', 'Bob', 'Charlie'])\n",
    "my_best_friend"
   ]
  },
  {
   "cell_type": "code",
   "execution_count": 236,
   "metadata": {},
   "outputs": [
    {
     "name": "stdout",
     "output_type": "stream",
     "text": [
      "[22, 14, 43, 58, 48, 29]\n"
     ]
    }
   ],
   "source": [
    "# random.sample을 사용하면 list에서 중복이 허용되지 않는 임의의 표본 list를 만들 수 있다.\n",
    "lottery_numbers = range(60)\n",
    "winning_numbers = random.sample(lottery_numbers, 6)\n",
    "print(winning_numbers)"
   ]
  },
  {
   "cell_type": "code",
   "execution_count": 239,
   "metadata": {},
   "outputs": [
    {
     "name": "stdout",
     "output_type": "stream",
     "text": [
      "[6, 2, 5, 8, 5, 1, 7, 8, 1, 2, 8, 6, 5, 7, 0]\n"
     ]
    }
   ],
   "source": [
    "# 만약 중복이 허용되는 임의의 표본 list를 만들고 싶다면 random.choice를 여러번 사용하면 된다.\n",
    "four_with_replacement = [random.choice(range(10)) for _ in range(15)]\n",
    "print(four_with_replacement)"
   ]
  },
  {
   "cell_type": "markdown",
   "metadata": {},
   "source": [
    "### 2.2.5. 정규표현식\n",
    "- 정규표현식(regular expressions), 또는 regex를 사용하면 문자열을 찾을 수 있다."
   ]
  },
  {
   "cell_type": "code",
   "execution_count": 240,
   "metadata": {},
   "outputs": [
    {
     "name": "stdout",
     "output_type": "stream",
     "text": [
      "True\n"
     ]
    }
   ],
   "source": [
    "import re\n",
    "print(all([                                    # 모두 True\n",
    "    not re.match('a', 'cat'),                  # 'cat'은 'a'로 시작하지 않기 때문에\n",
    "    re.search('a', 'cat'),                     # 'cat'안에는 'a'가 존재하기 때문에\n",
    "    not re.search('c', 'dog'),                 # 'dog'안에는 'c'가 존재하지 않기 때문에\n",
    "    3 == len(re.split('[ab]', 'carbs')),       # a 혹은 b를 기준으로 나누면 ['c', 'r', 's']가 생성되기 때문에\n",
    "    'R-D-' == re.sub('[0-9]', '-', 'R2D2')     # 숫자를 '-'로 대체\n",
    "]))"
   ]
  },
  {
   "cell_type": "markdown",
   "metadata": {},
   "source": [
    "### 2.2.6. 객체 지향 프로그래밍(Object-Oriented Programming)"
   ]
  },
  {
   "cell_type": "code",
   "execution_count": 249,
   "metadata": {},
   "outputs": [],
   "source": [
    "# 클래스의 이름은 관습에 따라 파스칼케이스로 표기\n",
    "class Set:\n",
    "    \n",
    "# 이제 멤버 함수들을 정의\n",
    "# 모든 멤버 함수의 첫 번째 인자는 'self'이다.(관습 중 하나)\n",
    "# 'self'란 현재 사용되고 있는 Set 객체를 의미한다.\n",
    "\n",
    "    def __init__(self, values=None):\n",
    "        '''이것은 constructor(생성자)이다. 새로운 Set을 만들면 호출된다. 다음과 같이 사용할 수 있다.\n",
    "        s1 = Set()  # 비어 있는 Set\n",
    "        s2 = Set([1,2,2,3])  # 초기값이 주어진 Set'''\n",
    "\n",
    "        self.dict = {}  # 모든 Set의 인스턴스는 자체적으로 dict를 유지한다. 이 dict를 통해 항목의 존재 여부를 확인할 것이다.\n",
    "\n",
    "        if values is not None:\n",
    "            for value in values:\n",
    "                self.add(value)\n",
    "                \n",
    "    def __repr__(self):\n",
    "        '''파이썬 프롬프트에서 이 함수를 입력하거나 str()으로 보내 주면 Set 객체를 문자열로 표현해 줌'''\n",
    "        return 'Set: ' + str(self.dict.keys())\n",
    "    \n",
    "    # self.dict에서 항목과 True를 각각 key와 value로 사용해서 Set 안에 존재하는 항목을 표현\n",
    "    def add(self, value):\n",
    "        self.dict[value] = True\n",
    "    \n",
    "    # 만약 항목이 dict의 key라면 항목은 Set 안에 존재함\n",
    "    def contains(self, value):\n",
    "        return value in self.dict\n",
    "    \n",
    "    def remove(self, value):\n",
    "        del self.dict[value]"
   ]
  },
  {
   "cell_type": "code",
   "execution_count": 252,
   "metadata": {},
   "outputs": [
    {
     "name": "stdout",
     "output_type": "stream",
     "text": [
      "True\n",
      "False\n"
     ]
    }
   ],
   "source": [
    "s = Set([1,2,3])\n",
    "s.add(4)\n",
    "print(s.contains(4))  # True\n",
    "\n",
    "s.remove(3)\n",
    "print(s.contains(3))  # False"
   ]
  },
  {
   "cell_type": "markdown",
   "metadata": {},
   "source": [
    "### 2.2.7. 함수형 도구"
   ]
  },
  {
   "cell_type": "code",
   "execution_count": 255,
   "metadata": {},
   "outputs": [
    {
     "name": "stdout",
     "output_type": "stream",
     "text": [
      "8\n",
      "9\n"
     ]
    }
   ],
   "source": [
    "def exp(base, power):\n",
    "    return base ** power\n",
    "\n",
    "def two_to_the(power):\n",
    "    return exp(2, power)\n",
    "\n",
    "from functools import partial\n",
    "two_to_the = partial(exp, 2)  # 입력 변수가 하나인 함수로 변환되었다.\n",
    "print(two_to_the(3))  # 8\n",
    "\n",
    "square_of = partial(exp, power=2)\n",
    "print(square_of(3))  # 9"
   ]
  },
  {
   "cell_type": "code",
   "execution_count": 274,
   "metadata": {},
   "outputs": [
    {
     "name": "stdout",
     "output_type": "stream",
     "text": [
      "[2, 4, 6, 8]\n",
      "[2, 4, 6, 8]\n",
      "functools.partial(<class 'map'>, <function double at 0x114ab39d8>)\n",
      "<map object at 0x114680e80>\n"
     ]
    }
   ],
   "source": [
    "def double(x):\n",
    "    return 2*x\n",
    "\n",
    "xs = [1, 2, 3, 4]\n",
    "twice_xs = [double(x) for x in xs]  # [2, 4, 6, 8]\n",
    "print(twice_xs)\n",
    "\n",
    "twice_xs = list(map(double, xs))  # 위의 결과와 동일\n",
    "print(twice_xs)\n",
    "\n",
    "list_double = partial(map, double) # list의 값을 두 배로 만들어 주는 함수\n",
    "print(list_double)\n",
    "\n",
    "twice_xs = list_double(xs)  # 결과는 여전히 [2, 4, 6, 8]\n",
    "print(twice_xs)"
   ]
  },
  {
   "cell_type": "code",
   "execution_count": 267,
   "metadata": {},
   "outputs": [
    {
     "data": {
      "text/plain": [
       "[4, 10]"
      ]
     },
     "execution_count": 267,
     "metadata": {},
     "output_type": "execute_result"
    }
   ],
   "source": [
    "# 여러 개의 list를 입력해 주면 인자가 여러 개인 함수에도 map을 적용할 수 있다.\n",
    "def multiply(x,y): return x*y\n",
    "\n",
    "products = list(map(multiply, [1, 2], [4, 5]))\n",
    "products  # [1*4, 2*5] = [4,10]"
   ]
  },
  {
   "cell_type": "code",
   "execution_count": 285,
   "metadata": {},
   "outputs": [
    {
     "name": "stdout",
     "output_type": "stream",
     "text": [
      "[2, 4]\n",
      "[2, 4]\n",
      "functools.partial(<class 'filter'>, <function is_even at 0x114ab3b70>)\n",
      "<filter object at 0x114aa48d0>\n"
     ]
    }
   ],
   "source": [
    "# filter는 if가 포함된 list comprehension과 동일하다.\n",
    "def is_even(x):\n",
    "    '''x가 짝수면 True, 홀수면 False'''\n",
    "    return x % 2 == 0\n",
    "\n",
    "x_evens = [x for x in xs if is_even(x)]\n",
    "print(x_evens)  # [2, 4]\n",
    "\n",
    "x_evens = list(filter(is_even, xs))\n",
    "print(x_evens)  # [2, 4] 위의 결과와 동일\n",
    "\n",
    "list_evener = partial(filter, is_even)\n",
    "print(list_evener)  # list를 필터링해 주는 함수\n",
    "\n",
    "x_evens = list_evener(xs)\n",
    "print(x_evens)"
   ]
  },
  {
   "cell_type": "markdown",
   "metadata": {},
   "source": [
    "### 2.2.8. enumerate"
   ]
  },
  {
   "cell_type": "code",
   "execution_count": null,
   "metadata": {},
   "outputs": [],
   "source": [
    "# list를 반복하면서 list의 항목과 인덱스가 모두 필요한 경우가 종종 있다.\n",
    "# 이 방법은 파이썬스럽지 않다.\n",
    "for i in range(len(documents)):\n",
    "    document = documents[i]\n",
    "    do_something(i, document)  \n",
    "\n",
    "# 이 방법 또한 파이썬스럽지 않다.\n",
    "i = 0\n",
    "for document in documents:\n",
    "    do_something(i, document)\n",
    "    i += 1\n",
    "\n",
    "# 가장 파이썬스러운 방법은 (인덱스, 항목) 형태의 tuple을 생성해 주는 enumerate를 활용하는 것이다.\n",
    "for i, document in enumerate(documents):\n",
    "    do_something(i, document)\n",
    "    \n",
    "# 만약 인덱스만 필요하다면 다음과 같이 코드를 작성할 수 있다.\n",
    "for i in range(len(documents)): do_something(i)  # 파이썬스럽지 않다.\n",
    "for i, _ in enumerate(documents): do_something(i)  # 파이썬스럽다."
   ]
  },
  {
   "cell_type": "markdown",
   "metadata": {},
   "source": [
    "### 2.2.9. zip과 argument unpacking\n",
    "- zip : 여러 개의 list를 서로 상응하는 항목의 tuple로 구성된 list로 변환해 준다."
   ]
  },
  {
   "cell_type": "code",
   "execution_count": 294,
   "metadata": {},
   "outputs": [
    {
     "data": {
      "text/plain": [
       "[('a', 1), ('b', 2), ('c', 3)]"
      ]
     },
     "execution_count": 294,
     "metadata": {},
     "output_type": "execute_result"
    }
   ],
   "source": [
    "# list 묶기\n",
    "# 주어진 list의 길이가 서로 다른 경우 zip은 첫 번째 list가 끝나면 멈춘다.\n",
    "list1 = ['a', 'b', 'c']\n",
    "list2 = [1, 2, 3]\n",
    "list(zip(list1, list2))  # [('a', 1), ('b', 2), ('c', 3)]"
   ]
  },
  {
   "cell_type": "code",
   "execution_count": 295,
   "metadata": {},
   "outputs": [
    {
     "name": "stdout",
     "output_type": "stream",
     "text": [
      "('a', 'b', 'c') (1, 2, 3)\n"
     ]
    }
   ],
   "source": [
    "# 묶인 list는 다음과 같이 풀어줄 수 있다.\n",
    "pairs = [('a', 1), ('b', 2), ('c', 3)]\n",
    "letters, numbers = zip(*pairs)\n",
    "print(letters, numbers)"
   ]
  },
  {
   "cell_type": "code",
   "execution_count": 296,
   "metadata": {},
   "outputs": [
    {
     "data": {
      "text/plain": [
       "[('a', 'b', 'c'), (1, 2, 3)]"
      ]
     },
     "execution_count": 296,
     "metadata": {},
     "output_type": "execute_result"
    }
   ],
   "source": [
    "list(zip(('a', 1), ('b', 2), ('c', 3)))"
   ]
  },
  {
   "cell_type": "code",
   "execution_count": 301,
   "metadata": {},
   "outputs": [
    {
     "data": {
      "text/plain": [
       "3"
      ]
     },
     "execution_count": 301,
     "metadata": {},
     "output_type": "execute_result"
    }
   ],
   "source": [
    "def add(a, b): return a + b\n",
    "\n",
    "add(1, 2)  # 3\n",
    "# add([1, 2])  # TypeError\n",
    "add(*[1, 2])  # 3"
   ]
  },
  {
   "cell_type": "markdown",
   "metadata": {},
   "source": [
    "### 2.2.10. args와 kwargs\n",
    "- args : 이름이 없는 인자로 구성된 tuple\n",
    "- kwargs : 이름이 주어진 인자로 구성된 dict"
   ]
  },
  {
   "cell_type": "code",
   "execution_count": 303,
   "metadata": {},
   "outputs": [
    {
     "name": "stdout",
     "output_type": "stream",
     "text": [
      "8\n",
      "0\n"
     ]
    }
   ],
   "source": [
    "def doubler(f):\n",
    "    def g(x):\n",
    "        return 2 * f(x)\n",
    "    return g\n",
    "\n",
    "def f1(x):\n",
    "    return x + 1\n",
    "\n",
    "g = doubler(f1)\n",
    "print(g(3))  # 8 (== (3+1)*2)\n",
    "print(g(-1))  # 0 (== (-1+1)*2)"
   ]
  },
  {
   "cell_type": "code",
   "execution_count": 304,
   "metadata": {},
   "outputs": [
    {
     "ename": "TypeError",
     "evalue": "g() takes 1 positional argument but 2 were given",
     "output_type": "error",
     "traceback": [
      "\u001b[0;31m---------------------------------------------------------------------------\u001b[0m",
      "\u001b[0;31mTypeError\u001b[0m                                 Traceback (most recent call last)",
      "\u001b[0;32m<ipython-input-304-0a53172dc1e5>\u001b[0m in \u001b[0;36m<module>\u001b[0;34m\u001b[0m\n\u001b[1;32m      3\u001b[0m \u001b[0;34m\u001b[0m\u001b[0m\n\u001b[1;32m      4\u001b[0m \u001b[0mg\u001b[0m \u001b[0;34m=\u001b[0m \u001b[0mdoubler\u001b[0m\u001b[0;34m(\u001b[0m\u001b[0mf2\u001b[0m\u001b[0;34m)\u001b[0m\u001b[0;34m\u001b[0m\u001b[0;34m\u001b[0m\u001b[0m\n\u001b[0;32m----> 5\u001b[0;31m \u001b[0mprint\u001b[0m\u001b[0;34m(\u001b[0m\u001b[0mg\u001b[0m\u001b[0;34m(\u001b[0m\u001b[0;36m1\u001b[0m\u001b[0;34m,\u001b[0m \u001b[0;36m2\u001b[0m\u001b[0;34m)\u001b[0m\u001b[0;34m)\u001b[0m\u001b[0;34m\u001b[0m\u001b[0;34m\u001b[0m\u001b[0m\n\u001b[0m",
      "\u001b[0;31mTypeError\u001b[0m: g() takes 1 positional argument but 2 were given"
     ]
    }
   ],
   "source": [
    "# 두  개 이상의 인자를 받는 함수의 경우에는 문제가 발생한다.\n",
    "def f2(x, y):\n",
    "    return x + y\n",
    "\n",
    "g = doubler(f2)\n",
    "print(g(1, 2))  # TypeError: g() takes 1 positional argument but 2 were given"
   ]
  },
  {
   "cell_type": "code",
   "execution_count": 305,
   "metadata": {},
   "outputs": [
    {
     "name": "stdout",
     "output_type": "stream",
     "text": [
      "unnamed args:  (1, 2)\n",
      "keyword args:  {'key': 'word', 'key2': 'word2'}\n",
      "<function magic at 0x1148799d8>\n"
     ]
    }
   ],
   "source": [
    "# 문제를 해결하기 위해 임의의 수의 인자를 받는 함수를 만들어 줘야 한다. -> argument umpacking\n",
    "def magic(*args, **kwargs):\n",
    "    print('unnamed args: ', args)  # args : 이름이 없는 인자로 구성된 tuple\n",
    "    print('keyword args: ', kwargs)  # kwargs : 이름이 주어진 인자로 구성된 dict\n",
    "\n",
    "magic(1, 2, key='word', key2='word2')\n",
    "print(magic)"
   ]
  },
  {
   "cell_type": "code",
   "execution_count": 306,
   "metadata": {},
   "outputs": [
    {
     "name": "stdout",
     "output_type": "stream",
     "text": [
      "6\n"
     ]
    }
   ],
   "source": [
    "# 반대로, 정해진 수의 인자가 있는 함수를 호출할 때도 list나 dict로 인자를 전달할 수 있다.\n",
    "def other_way_magic(x, y, z):\n",
    "    return x + y + z\n",
    "\n",
    "x_y_list = [1, 2]\n",
    "z_dict = {'z':3}\n",
    "print(other_way_magic(*x_y_list, **z_dict))"
   ]
  },
  {
   "cell_type": "code",
   "execution_count": 307,
   "metadata": {},
   "outputs": [
    {
     "name": "stdout",
     "output_type": "stream",
     "text": [
      "6\n"
     ]
    }
   ],
   "source": [
    "def doubler_correct(f):\n",
    "    '''f의 인자에 상관없이 작동함'''\n",
    "    def g(*args, **kwargs):\n",
    "        '''g의 인자가 무엇이든 간에 f로 보내줌'''\n",
    "        return 2 * f(*args, **kwargs)\n",
    "    return g\n",
    "\n",
    "g = doubler_correct(f2)\n",
    "print(g(1, 2))"
   ]
  },
  {
   "cell_type": "code",
   "execution_count": null,
   "metadata": {},
   "outputs": [],
   "source": []
  }
 ],
 "metadata": {
  "kernelspec": {
   "display_name": "Python 3",
   "language": "python",
   "name": "python3"
  },
  "language_info": {
   "codemirror_mode": {
    "name": "ipython",
    "version": 3
   },
   "file_extension": ".py",
   "mimetype": "text/x-python",
   "name": "python",
   "nbconvert_exporter": "python",
   "pygments_lexer": "ipython3",
   "version": "3.7.3"
  }
 },
 "nbformat": 4,
 "nbformat_minor": 2
}
