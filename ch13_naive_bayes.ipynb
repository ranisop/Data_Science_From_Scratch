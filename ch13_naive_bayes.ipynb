{
 "cells": [
  {
   "cell_type": "markdown",
   "metadata": {},
   "source": [
    "## 13.3. 구현하기"
   ]
  },
  {
   "cell_type": "code",
   "execution_count": 66,
   "metadata": {},
   "outputs": [],
   "source": [
    "#from __future__ import division\n",
    "from collections import Counter, defaultdict\n",
    "#from machine_learning import split_data\n",
    "import math, random, re, glob"
   ]
  },
  {
   "cell_type": "code",
   "execution_count": 67,
   "metadata": {},
   "outputs": [],
   "source": [
    "def tokenize(message):\n",
    "    message = message.lower()                       # 소문자로 변환\n",
    "    all_words = re.findall(\"[a-z0-9']+\", message)   # 단어 추출\n",
    "    return set(all_words)                           # 중복되는 단어 제거"
   ]
  },
  {
   "cell_type": "code",
   "execution_count": 68,
   "metadata": {},
   "outputs": [],
   "source": [
    "def count_words(training_set):\n",
    "    '''학습 데이터는 (메시지 네용, 스팸 여부) 형식으로 구성되어 있음'''\n",
    "    counts = defaultdict(lambda: [0, 0])\n",
    "    for message, is_spam in training_set:\n",
    "        for word in tokenize(message):\n",
    "            counts[word][0 if is_spam else 1] += 1\n",
    "    return counts"
   ]
  },
  {
   "cell_type": "code",
   "execution_count": 69,
   "metadata": {},
   "outputs": [],
   "source": [
    "def word_probabilities(counts, total_spams, total_non_spams, k=0.5):\n",
    "    '''단어의 빈도수를\n",
    "    [단어, p(w|스팸), p(w|~스팸)] 형태로 변환'''\n",
    "    return [(w,\n",
    "             (spam + k) / (total_spams + 2 * k),\n",
    "             (non_spam + k) / (total_non_spams + 2 * k))\n",
    "             for w, (spam, non_spam) in counts.items()]"
   ]
  },
  {
   "cell_type": "code",
   "execution_count": 70,
   "metadata": {},
   "outputs": [],
   "source": [
    "def spam_probability(word_probs, message):\n",
    "    message_words = tokenize(message)\n",
    "    log_prob_if_spam = log_prob_if_not_spam = 0.0\n",
    "\n",
    "    # 모든 단어에 대해 반복\n",
    "    for word, prob_if_spam, prob_if_not_spam in word_probs:\n",
    "\n",
    "        # 만약에 메시지에 word가 나타나면\n",
    "        # 해당 단어가 나올 log 확률을 더해 줌\n",
    "        if word in message_words:\n",
    "            log_prob_if_spam += math.log(prob_if_spam)\n",
    "            log_prob_if_not_spam += math.log(prob_if_not_spam)\n",
    "\n",
    "        # 만약 메시지에 word가 나타나지 않는다면\n",
    "        # 해당 단어가 나오지 않을 log 확률을 더해 줌\n",
    "        # 나오지 않을 확률은 log(1 - 나올 확률)로 계산\n",
    "        else:\n",
    "            log_prob_if_spam += math.log(1.0 - prob_if_spam)\n",
    "            log_prob_if_not_spam += math.log(1.0 - prob_if_not_spam)\n",
    "            \n",
    "    prob_if_spam = math.exp(log_prob_if_spam)\n",
    "    prob_if_not_spam = math.exp(log_prob_if_not_spam)\n",
    "    return prob_if_spam / (prob_if_spam + prob_if_not_spam)"
   ]
  },
  {
   "cell_type": "code",
   "execution_count": 71,
   "metadata": {},
   "outputs": [],
   "source": [
    "class NaiveBayesClassifier:\n",
    "\n",
    "    def __init__(self, k=0.5):\n",
    "        self.k = k\n",
    "        self.word_probs = []\n",
    "\n",
    "    def train(self, training_set):\n",
    "    \n",
    "        # 스팸 메시지와 스팸이 아닌 메시지의 개수를 세어 줌\n",
    "        num_spams = len([is_spam \n",
    "                         for message, is_spam in training_set \n",
    "                         if is_spam])\n",
    "        num_non_spams = len(training_set) - num_spams\n",
    "\n",
    "        # 지금까지 만든 함수에 학습 데이터를 적용\n",
    "        word_counts = count_words(training_set)\n",
    "        self.word_probs = word_probabilities(word_counts, \n",
    "                                             num_spams, \n",
    "                                             num_non_spams,\n",
    "                                             self.k)\n",
    "                                             \n",
    "    def classify(self, message):\n",
    "        return spam_probability(self.word_probs, message)"
   ]
  },
  {
   "cell_type": "markdown",
   "metadata": {},
   "source": [
    "## 13.4. 모델 검증하기"
   ]
  },
  {
   "cell_type": "code",
   "execution_count": 72,
   "metadata": {},
   "outputs": [],
   "source": [
    "def get_subject_data(path):\n",
    "    data = []\n",
    "\n",
    "    # regex for stripping out the leading \"Subject:\" and any spaces after it\n",
    "    subject_regex = re.compile(r\"^Subject:\\s+\")\n",
    "\n",
    "    # glob.glob는 주어진 경로에 해당하는 모든 파일 이름을 반환\n",
    "    for fn in glob.glob(path):\n",
    "        is_spam = \"ham\" not in fn\n",
    "\n",
    "        with open(fn,'r', encoding='ISO-8859-1') as file:\n",
    "            for line in file:\n",
    "                if line.startswith(\"Subject:\"):\n",
    "                    # 'Subject : '부분을 제거하고 나머지 부분을 유지\n",
    "                    subject = subject_regex.sub(\"\", line).strip()\n",
    "                    data.append((subject, is_spam))\n",
    "                    # 폴더에서 하나의 파일의 제목을 subject에 그 파일의 스팸 여부를 data에 저장\n",
    "\n",
    "    return data"
   ]
  },
  {
   "cell_type": "code",
   "execution_count": 73,
   "metadata": {},
   "outputs": [
    {
     "data": {
      "text/plain": [
       "[('Friend, Copy ANY DVD or Playstation Game with this software......', True),\n",
       " ('5% Guaranteed for Eight Years', True),\n",
       " ('Congratulations! You Get a Free Handheld Organizer!', True),\n",
       " ('One of a kind Money maker! Try it for free!', True),\n",
       " ('Online Doctors will fill your Viagra Prescription Now!!!                QEEB',\n",
       "  True)]"
      ]
     },
     "execution_count": 73,
     "metadata": {},
     "output_type": "execute_result"
    }
   ],
   "source": [
    "data = get_subject_data(r'/Users/nani/Desktop/GitHub/data-science-from-scratch/spam_mail/*/*')\n",
    "data[:5]"
   ]
  },
  {
   "cell_type": "code",
   "execution_count": 74,
   "metadata": {},
   "outputs": [],
   "source": [
    "def split_data(data, prob):\n",
    "    '''split data into fractions [prob, 1 - prob]'''\n",
    "    results = [], []\n",
    "    for row in data:\n",
    "        results[0 if random.random() < prob else 1].append(row)\n",
    "    return results"
   ]
  },
  {
   "cell_type": "code",
   "execution_count": 75,
   "metadata": {},
   "outputs": [
    {
     "data": {
      "text/plain": [
       "([('Friend, Copy ANY DVD or Playstation Game with this software......', True),\n",
       "  ('5% Guaranteed for Eight Years', True),\n",
       "  ('Congratulations! You Get a Free Handheld Organizer!', True),\n",
       "  ('One of a kind Money maker! Try it for free!', True),\n",
       "  ('Online Doctors will fill your Viagra Prescription Now!!!                QEEB',\n",
       "   True)],\n",
       " [('Find Peace, Harmony, Tranquility, And Happiness Right Now!', True),\n",
       "  ('Get the Computer Skills you need - Free', True),\n",
       "  ('[WM] CEVIRI YAZILIMLARI', True),\n",
       "  ('Garden Ornaments | ppu', True),\n",
       "  ('A marketplace where lenders compete for your business LFHLXHU', True)])"
      ]
     },
     "execution_count": 75,
     "metadata": {},
     "output_type": "execute_result"
    }
   ],
   "source": [
    "train_data, test_data = split_data(data, 0.75)  \n",
    "train_data[:5], test_data[:5]"
   ]
  },
  {
   "cell_type": "code",
   "execution_count": 76,
   "metadata": {},
   "outputs": [
    {
     "data": {
      "text/plain": [
       "{'a', 'counts', 'into', 'list', 'of', 'the', 'triplets', 'turn', 'word'}"
      ]
     },
     "execution_count": 76,
     "metadata": {},
     "output_type": "execute_result"
    }
   ],
   "source": [
    "tokenize(\"turn the word_counts into a list of triplets\")"
   ]
  },
  {
   "cell_type": "code",
   "execution_count": 77,
   "metadata": {},
   "outputs": [
    {
     "data": {
      "text/plain": [
       "defaultdict(<function __main__.count_words.<locals>.<lambda>()>,\n",
       "            {'any': [1, 0],\n",
       "             'playstation': [1, 0],\n",
       "             'or': [1, 0],\n",
       "             'friend': [1, 0],\n",
       "             'copy': [1, 0],\n",
       "             'with': [1, 0],\n",
       "             'dvd': [1, 0],\n",
       "             'this': [1, 0],\n",
       "             'software': [1, 0],\n",
       "             'game': [1, 0],\n",
       "             'eight': [1, 0],\n",
       "             '5': [1, 0],\n",
       "             'for': [2, 0],\n",
       "             'guaranteed': [1, 0],\n",
       "             'years': [1, 0],\n",
       "             'you': [1, 0],\n",
       "             'congratulations': [1, 0],\n",
       "             'handheld': [1, 0],\n",
       "             'organizer': [1, 0],\n",
       "             'get': [1, 0],\n",
       "             'free': [2, 0],\n",
       "             'a': [2, 0],\n",
       "             'maker': [1, 0],\n",
       "             'one': [1, 0],\n",
       "             'of': [1, 0],\n",
       "             'it': [1, 0],\n",
       "             'money': [1, 0],\n",
       "             'kind': [1, 0],\n",
       "             'try': [1, 0],\n",
       "             'prescription': [1, 0],\n",
       "             'will': [1, 0],\n",
       "             'viagra': [1, 0],\n",
       "             'now': [1, 0],\n",
       "             'fill': [1, 0],\n",
       "             'online': [1, 0],\n",
       "             'qeeb': [1, 0],\n",
       "             'doctors': [1, 0],\n",
       "             'your': [1, 0]})"
      ]
     },
     "execution_count": 77,
     "metadata": {},
     "output_type": "execute_result"
    }
   ],
   "source": [
    "count_words(train_data[:5])"
   ]
  },
  {
   "cell_type": "code",
   "execution_count": 78,
   "metadata": {},
   "outputs": [
    {
     "data": {
      "text/plain": [
       "[('any', 0.011811023622047244, -0.003968253968253968),\n",
       " ('playstation', 0.006561679790026247, -0.0013227513227513227),\n",
       " ('or', 0.009186351706036745, -0.056878306878306875),\n",
       " ('friend', 0.006561679790026247, -0.006613756613756613),\n",
       " ('copy', 0.006561679790026247, -0.006613756613756613)]"
      ]
     },
     "execution_count": 78,
     "metadata": {},
     "output_type": "execute_result"
    }
   ],
   "source": [
    "word_probabilities(\n",
    "    count_words(train_data), len(\n",
    "        [is_spam for message, is_spam in train_data if is_spam]), \n",
    "    1-len([is_spam for message, is_spam in train_data if is_spam]))[:5]"
   ]
  },
  {
   "cell_type": "code",
   "execution_count": 79,
   "metadata": {},
   "outputs": [],
   "source": [
    "def p_spam_given_word(word_prob):\n",
    "    word, prob_if_spam, prob_if_not_spam = word_prob\n",
    "    return prob_if_spam / (prob_if_spam + prob_if_not_spam)"
   ]
  },
  {
   "cell_type": "code",
   "execution_count": 80,
   "metadata": {},
   "outputs": [],
   "source": [
    "def train_and_test_model(path):\n",
    "\n",
    "    data = get_subject_data(path)\n",
    "    random.seed(0)      # 예시와 동일한 결과를 얻기 위해서 설정\n",
    "    train_data, test_data = split_data(data, 0.75)    \n",
    "\n",
    "    classifier = NaiveBayesClassifier()\n",
    "    classifier.train(train_data)    \n",
    "\n",
    "    # [제목, 실제 스팸 여부, 예측된 스팸 확률]\n",
    "    classified = [(subject, is_spam, classifier.classify(subject))\n",
    "              for subject, is_spam in test_data]\n",
    "\n",
    "    # 메시지가 스팸일 확률이 0.5보다 크면 스팸이라고 하자\n",
    "    # 그리고 예측된 스팸 메시지가 실제 스팸인 경우를 세어 보자\n",
    "    counts = Counter((is_spam, spam_probability > 0.5) # (actual, predicted)\n",
    "                     for _, is_spam, spam_probability in classified)\n",
    "\n",
    "    print(counts)\n",
    "\n",
    "    # 스팸일 확률을 오름차순으로 정렬\n",
    "    classified.sort(key=lambda row: row[2])\n",
    "    \n",
    "    # 스팸이 아닌 메시지 중에서 스팸일 확률이 가장 높은 메시지\n",
    "    spammiest_hams = list(filter(lambda row: not row[1], classified))[-5:]\n",
    "    \n",
    "    # 스팸 중에서 스팸일 확률이 가장 낮은 메시지\n",
    "    hammiest_spams = list(filter(lambda row: row[1], classified))[:5]\n",
    "\n",
    "    print(\"spammiest_hams\", spammiest_hams)\n",
    "    print(\"hammiest_spams\", hammiest_spams)\n",
    "\n",
    "    words = sorted(classifier.word_probs, key=p_spam_given_word)\n",
    "\n",
    "    spammiest_words = words[-5:] \n",
    "    hammiest_words = words[:5] \n",
    " \n",
    "\n",
    "    print(\"spammiest_words\", spammiest_words)\n",
    "    print(\"hammiest_words\", hammiest_words)"
   ]
  },
  {
   "cell_type": "code",
   "execution_count": 81,
   "metadata": {},
   "outputs": [
    {
     "name": "stdout",
     "output_type": "stream",
     "text": [
      "Counter({(False, False): 716, (True, True): 85, (True, False): 49, (False, True): 26})\n",
      "spammiest_hams [('Species at risk of extinction growing', False, 0.8958889624800302), ('Cell phones coming soon', False, 0.9666801692557614), ('Adam dont job for no one, see.', False, 0.9758486261566025), ('2000+ year old Greek computer reinterpreted', False, 0.9767939458812925), ('Save up to 70% on international calls!', False, 0.9776715683050722)]\n",
      "hammiest_spams [('I was so scared... my very first DP', True, 5.4062616415727244e-05), ('Re: Hi', True, 0.0009722322165778127), ('*****SPAM*****', True, 0.0021267760018624494), ('http://www.efi.ie/', True, 0.007758971914390464), ('Outstanding Opportunities for \"Premier Producers\"', True, 0.008355413144240686)]\n",
      "spammiest_words [('zzzz', 0.02837837837837838, 0.0002294630564479119), ('money', 0.033783783783783786, 0.0002294630564479119), ('rates', 0.033783783783783786, 0.0002294630564479119), ('systemworks', 0.033783783783783786, 0.0002294630564479119), ('adv', 0.0445945945945946, 0.0002294630564479119)]\n",
      "hammiest_words [('spambayes', 0.0013513513513513514, 0.04612207434603029), ('users', 0.0013513513513513514, 0.039238182652592934), ('was', 0.0013513513513513514, 0.03786140431390546), ('razor', 0.0013513513513513514, 0.034189995410738874), ('zzzzteana', 0.0013513513513513514, 0.030059660394676457)]\n"
     ]
    }
   ],
   "source": [
    "if __name__ == \"__main__\":\n",
    "    train_and_test_model(r'/Users/nani/Desktop/GitHub/data-science-from-scratch/spam_mail/*/*')"
   ]
  },
  {
   "cell_type": "markdown",
   "metadata": {},
   "source": [
    "## 13.5. 더 공부해 보고 싶다면\n",
    "- 스팸 필터에 대해 더 자세히 알아보고 싶다면 폴 그레이엄(Paul Graham)의 A Plan for Spam과 Better Bayesian Filtering을 참고하자.\n",
    "- scikit-learn은 이번 장에서 구현한 나이브 베이즈와 똑같이 동작하는 BernoulliNB 모델을 비롯해 다양한 종류의 모델을 제공하고 있다."
   ]
  },
  {
   "cell_type": "code",
   "execution_count": null,
   "metadata": {},
   "outputs": [],
   "source": []
  }
 ],
 "metadata": {
  "kernelspec": {
   "display_name": "Python 3",
   "language": "python",
   "name": "python3"
  },
  "language_info": {
   "codemirror_mode": {
    "name": "ipython",
    "version": 3
   },
   "file_extension": ".py",
   "mimetype": "text/x-python",
   "name": "python",
   "nbconvert_exporter": "python",
   "pygments_lexer": "ipython3",
   "version": "3.7.3"
  }
 },
 "nbformat": 4,
 "nbformat_minor": 2
}
