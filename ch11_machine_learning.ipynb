{
 "cells": [
  {
   "cell_type": "markdown",
   "metadata": {},
   "source": [
    "## 11.1. 모델링\n",
    "- 모델(model) : 다양한 변수 간의 수학적(혹은 확률적) 관계를 표현한 것"
   ]
  },
  {
   "cell_type": "markdown",
   "metadata": {},
   "source": [
    "## 11.2. 기계학습이란?\n",
    "- 데이터를 통해 모델을 만들고 사용하는 것\n",
    "- 예측 모델링(predictive modeling) 혹은 데이터 마이닝(data mining)\n",
    "> - 이메일이 스팸 메일인지 아닌지 예측\n",
    "> - 신용카드 사기 예측\n",
    "> - 쇼핑 고객이 클릭할 확률이 높은 광고 예측\n",
    "> - 슈퍼볼에서 우승할 미식 축구팀 예측\n",
    "- 지도 학습(supervised learning) : 학습에 사용될 데이터에 정답이 포함되어 있음\n",
    "- 비지도 학습(unsupervised learning) : 정답이 포함되어 있지 않음\n",
    "- 준 지도 학습(semi-supervised learning) : 데이터의 일부에만 정답이 포함되어 있음\n",
    "- 온라인 학습(online learning) : 새로 들어오는 데이터를 통해 모델을 끊임없이 조정함"
   ]
  },
  {
   "cell_type": "markdown",
   "metadata": {},
   "source": [
    "## 11.3. 오버피팅과 언더피팅"
   ]
  },
  {
   "cell_type": "markdown",
   "metadata": {},
   "source": [
    "- 오버피팅(overfitting)이란 만들어진 모델의 성능이 학습 데이터에서는 좋지만, 기존에 관측한 적이 없는 새로운 데이터에서는 좋지 않은 경우를 의미한다.\n",
    "- 기계학습의 일반적인 문제점으로, 이러한 현상은 데이터의 잡음까지 모델에 학습되거나, 원하는 결과를 예측해주는 요소가 아닌 다른 요소들이 학습되기 때문에 발생한다.\n",
    "- 언더피팅(underfitting)이란 모델의 성능이 학습 데이터에서도 좋지 않은 경우를 의미한다.\n",
    "- 보통 언더피팅이 발생하면 해당 모델은 문제에 적합하지 않다는 것을 의미하며, 새로운 모델을 찾아봐야 한다."
   ]
  },
  {
   "cell_type": "code",
   "execution_count": 2,
   "metadata": {},
   "outputs": [],
   "source": [
    "# 가장 간단한 방법은 주어진 데이터를 나누는 것이다. 예를 들어, 전체 데이터의 2/3로 모델을 학습시키고, 나머지 1/3로 모델의 성능을 평가한다.\n",
    "\n",
    "from collections import Counter\n",
    "import math, random"
   ]
  },
  {
   "cell_type": "code",
   "execution_count": 3,
   "metadata": {},
   "outputs": [],
   "source": [
    "def split_data(data, prob):\n",
    "    '''데이터를 [prob, 1-prob] 비율로 나눔'''\n",
    "    results = [], []\n",
    "    for row in data:\n",
    "        results[0 if random.random() < prob else 1].append(row)\n",
    "    return results\n",
    "\n",
    "def train_test_split(x, y, test_pct):\n",
    "    data = zip(x, y)  # 데이터 포인트 하나에 해당하는 값들\n",
    "    train, test = split_data(data, 1 - test_pct)  # 데이터 셋을 나누기\n",
    "    x_train, y_train = zip(*train)  # zip 풀기\n",
    "    x_test, y_test = zip(*test)\n",
    "    return x_train, x_test, y_train, y_test"
   ]
  },
  {
   "cell_type": "code",
   "execution_count": 5,
   "metadata": {},
   "outputs": [],
   "source": [
    "iris_data ={\n",
    "\"Sepal.Length\": [5.1,4.9,4.7,4.6,5,5.4,4.6,5,4.4,4.9,5.4,4.8,\n",
    "                 4.8,4.3,5.8,5.7,5.4,5.1,5.7,5.1,5.4,5.1,4.6,\n",
    "                 5.1,4.8,5,5,5.2,5.2,4.7,4.8,5.4,5.2,5.5,4.9,\n",
    "                 5,5.5,4.9,4.4,5.1,5,4.5,4.4,5,5.1,4.8,5.1,4.6,5.3,5], \n",
    "\"Sepal.Width\": [3.5,3,3.2,3.1,3.6,3.9,3.4,3.4,2.9,3.1,3.7,3.4,3,3,4,\n",
    "                4.4,3.9,3.5,3.8,3.8,3.4,3.7,3.6,3.3,3.4,3,3.4,3.5,\n",
    "                3.4,3.2,3.1,3.4,4.1,4.2,3.1,3.2,3.5,3.6,3,3.4,\n",
    "                3.5,2.3,3.2,3.5,3.8,3,3.8,3.2,3.7,3.3]\n",
    "}\n",
    "\n",
    "training_data,test_data =  split_data(iris_data[\"Sepal.Length\"], 0.66)"
   ]
  },
  {
   "cell_type": "code",
   "execution_count": 6,
   "metadata": {},
   "outputs": [
    {
     "data": {
      "text/plain": [
       "50"
      ]
     },
     "execution_count": 6,
     "metadata": {},
     "output_type": "execute_result"
    }
   ],
   "source": [
    "len(iris_data[\"Sepal.Length\"])"
   ]
  },
  {
   "cell_type": "code",
   "execution_count": 7,
   "metadata": {},
   "outputs": [
    {
     "data": {
      "text/plain": [
       "12"
      ]
     },
     "execution_count": 7,
     "metadata": {},
     "output_type": "execute_result"
    }
   ],
   "source": [
    "len(test_data) # 학습후 평가대상이 되는 데이터 1/3"
   ]
  },
  {
   "cell_type": "code",
   "execution_count": 8,
   "metadata": {},
   "outputs": [
    {
     "data": {
      "text/plain": [
       "38"
      ]
     },
     "execution_count": 8,
     "metadata": {},
     "output_type": "execute_result"
    }
   ],
   "source": [
    "len(training_data) # 학습을 위한 데이터 2/3"
   ]
  },
  {
   "cell_type": "code",
   "execution_count": 11,
   "metadata": {},
   "outputs": [],
   "source": [
    "x_train, x_test, y_train, y_yest = train_test_split(iris_data[\"Sepal.Length\"], iris_data[\"Sepal.Width\"], 0.33)"
   ]
  },
  {
   "cell_type": "markdown",
   "metadata": {},
   "source": [
    "## 11.4. 정확도\n",
    "- True positive(TP; 진양성): 이 이메일은 실제로 스팸 메일이며 정확하게 스팸으로 분류\n",
    "- False positive(FP; 가양성): 이 이메일은 사실 스팸 메일이 아니지만 스팸으로 분류\n",
    "- False negative(FN; 가음성): 이 이메일은 실제로 스팸 메일이지만 스팸이 아닌 것으로 분류\n",
    "- True negative(TN; 진음성): 이 이메일은 실제로 스팸 메일이 아니며 정확하게 스팸이 아닌 것으로 분류\n",
    "\n",
    "- 혼동행렬(confusion matrix) \n",
    "\n",
    "-|실제로 스팸 메일인 경우|실제로 스팸 메일이 아닌 경우  \n",
    ":-----:|:-----:|:-----:  \n",
    "스팸 메일로 분류|True positive|False positive  \n",
    "스팸 메일이 아닌 것으로 분류|False negative|True negative  "
   ]
  },
  {
   "cell_type": "markdown",
   "metadata": {},
   "source": [
    "'루크라는 이름을 가진 사람은 백혈병에 걸린다'\n",
    "\n",
    "-|실제로 백혈병에 걸린 경우|실제로 백혈벙에 걸리지 않은 경우|합계\n",
    ":-----:|:-----:|:-----:|:-----:\n",
    "이름이 루크인 경우|70|4,930|5000\n",
    "이름이 루크가 아닌 경우|13,930|981,070|995,000\n",
    "합계|14,000|986,000|1,000,000"
   ]
  },
  {
   "cell_type": "code",
   "execution_count": 12,
   "metadata": {},
   "outputs": [
    {
     "name": "stdout",
     "output_type": "stream",
     "text": [
      "0.98114\n"
     ]
    }
   ],
   "source": [
    "# 정확도(accuracy): 정확한 예측의 비율\n",
    "def accuracy(tp, fp, fn, tn):\n",
    "    correct = tp + tn\n",
    "    total = tp + fp + fn + tn\n",
    "    return correct / total\n",
    "\n",
    "print(accuracy(70, 4930, 13930, 981070))"
   ]
  },
  {
   "cell_type": "code",
   "execution_count": 13,
   "metadata": {},
   "outputs": [
    {
     "name": "stdout",
     "output_type": "stream",
     "text": [
      "0.014\n"
     ]
    }
   ],
   "source": [
    "# 정밀도(precision): 양성으로 예측된 결과의 정확도\n",
    "def precision(tp, fp, fn, tn):\n",
    "    return tp / (tp + fp)\n",
    "\n",
    "print(precision(70, 4930, 13930, 981070))"
   ]
  },
  {
   "cell_type": "code",
   "execution_count": 14,
   "metadata": {},
   "outputs": [
    {
     "name": "stdout",
     "output_type": "stream",
     "text": [
      "0.005\n"
     ]
    }
   ],
   "source": [
    "# 재현율(recall): 실제 양성 중 모델이 정확하게 양성으로 예측한 비율\n",
    "def recall(tp, fp, fn, tn):\n",
    "    return tp / (tp + fn)\n",
    "\n",
    "print(recall(70, 4930, 13930, 981070))"
   ]
  },
  {
   "cell_type": "code",
   "execution_count": 16,
   "metadata": {},
   "outputs": [
    {
     "name": "stdout",
     "output_type": "stream",
     "text": [
      "0.00736842105263158\n"
     ]
    }
   ],
   "source": [
    "# F1 점수(F1 score): 정밀도와 재현율의 조화평균이며, 항상 정밀도와 재현율 사이의 값을 갖는다.\n",
    "def f1_score(tp, fp, fn, tn):\n",
    "    p = precision(tp, fp, fn, tn)\n",
    "    r = recall(tp, fp, fn, tn)\n",
    "    \n",
    "    return 2 * p * r / (p + r)\n",
    "\n",
    "print(f1_score(70, 4930, 13930, 981070))"
   ]
  },
  {
   "cell_type": "markdown",
   "metadata": {},
   "source": [
    "보통 모델을 선택하기 위해서는 정밀도와 재현율의 트레이드오프(trade-off)를 고려해야 핸다.  \n",
    "특정 데이터 포인트가 조금이라도 양성일 것 같을 때 모델이 데이터 포인트를 양성이라고 판단한다면, 재현율은 높겠지만 정밀도는 낮을 것이다.  \n",
    "반면 모델이 데이터가 확실히 양성일 때만 해당 데이터를 양성이라고 판단한다면 재현율은 낮겠지만 정밀도는 높을 것이다.  "
   ]
  },
  {
   "cell_type": "markdown",
   "metadata": {},
   "source": [
    "## 11.5. Bias-variance 트레이드오프\n",
    "- 오버피팅 문제는 bias(편향)와 variance(분산)의 트레이드오프로 볼 수도 있다.\n",
    "- bias가 높고 variance가 낮다면 언더피팅을 의미한다.\n",
    "- bias가 낮고 variance가 높다면 오버피팅을 의미한다.\n",
    "\n",
    "- 만약 모델의 bias가 매우 심하다면(즉, 학습 데이터에서도 모델의 성능이 좋지 않다면), 새로운 변수를 추가하는 것도 하나의 해결책일 것이다.\n",
    "- 반대로 모델의 variance가 너무 높다면, 모델의 변수를 줄이거나 (가능하다면)더 많은 데이터를 구해서 모델을 다시 학습시키면 된다."
   ]
  },
  {
   "cell_type": "markdown",
   "metadata": {},
   "source": [
    "## 11.6. 특성 추출 및 선택\n",
    "- 데이터의 특성을 나타내는 모델의 변수가 부족하다면 언더피팅이 발생할 것이고 변수가 너무 많다면 오버피팅이 발생할 것이다.\n",
    "- 데이터의 특성(feature)이란 모델의 모든 입력 변수를 의미한다."
   ]
  },
  {
   "cell_type": "markdown",
   "metadata": {},
   "source": [
    "## 11.7. 더 공부해 보고 싶다면\n",
    "- Coursera의 Machine Learning강좌, 칼텍의 기계학습 MOOC\n",
    "- The Elements of Statistical Learning"
   ]
  },
  {
   "cell_type": "code",
   "execution_count": null,
   "metadata": {},
   "outputs": [],
   "source": []
  },
  {
   "cell_type": "code",
   "execution_count": null,
   "metadata": {},
   "outputs": [],
   "source": []
  }
 ],
 "metadata": {
  "kernelspec": {
   "display_name": "Python 3",
   "language": "python",
   "name": "python3"
  },
  "language_info": {
   "codemirror_mode": {
    "name": "ipython",
    "version": 3
   },
   "file_extension": ".py",
   "mimetype": "text/x-python",
   "name": "python",
   "nbconvert_exporter": "python",
   "pygments_lexer": "ipython3",
   "version": "3.7.3"
  }
 },
 "nbformat": 4,
 "nbformat_minor": 2
}
